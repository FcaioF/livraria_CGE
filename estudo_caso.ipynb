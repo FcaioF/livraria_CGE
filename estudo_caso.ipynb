{
 "cells": [
  {
   "cell_type": "code",
   "execution_count": 1,
   "metadata": {
    "ExecuteTime": {
     "end_time": "2023-08-09T22:22:28.525239700Z",
     "start_time": "2023-08-09T22:22:28.197911600Z"
    }
   },
   "outputs": [],
   "source": [
    "# Libs\n",
    "import requests\n",
    "from bs4 import BeautifulSoup\n",
    "from web_scraping_tools import *"
   ]
  },
  {
   "cell_type": "code",
   "execution_count": 2,
   "metadata": {
    "ExecuteTime": {
     "end_time": "2023-08-09T22:22:28.574524600Z",
     "start_time": "2023-08-09T22:22:28.526240900Z"
    }
   },
   "outputs": [],
   "source": [
    "# def scrap_site_html(site_url):\n",
    "#     '''\n",
    "#     receive the site url as parameter\n",
    "#     and request the html code\n",
    "#     '''\n",
    "#     _siteResponse = requests.get(site_url)\n",
    "#     _soup = BeautifulSoup(_siteResponse.content,'html.parser')\n",
    "# \n",
    "#     return _soup\n",
    "# \n",
    "# def scrap_books_category(url):\n",
    "#     html_code = scrap_site_html(url)\n",
    "#     books_list = [] # list to store all books category\n",
    "#     \n",
    "#     for value in html_code.find_all('a')[4:-22]:      \n",
    "#         #operation used to clean unwanted characters\n",
    "#         category_formated =(\n",
    "#                str(\n",
    "#                    value\n",
    "#                    .get('href')\n",
    "#                    .replace('../','')\n",
    "#                    .replace('..','')\n",
    "#                    .replace('///','')\n",
    "#                    .replace('//','')\n",
    "#                )\n",
    "#                .split('/')[-2]\n",
    "#            )\n",
    "# \n",
    "#         books_list.append(category_formated) \n",
    "#         \n",
    "#     return books_list\n",
    "# \n",
    "# def scrap_star_rating(html_code):\n",
    "#     '''\n",
    "#     return the star rating\n",
    "#     of the book\n",
    "#     '''\n",
    "# \n",
    "#     _star_rating= (\n",
    "#             str(\n",
    "#                 html_code\n",
    "#                 .find('p')\n",
    "#             )\n",
    "#             .split('\\n')[0]\n",
    "#             .split('\"')[1]\n",
    "#         )\n",
    "# \n",
    "#     return _star_rating\n",
    "# \n",
    "def scrap_books_data(category):\n",
    "    _book_data = []\n",
    "    _url_base = 'http://books.toscrape.com/catalogue/category/books/'    \n",
    "    '''\n",
    "    get html from the webpage\n",
    "    and filter all elements \"LI\"\n",
    "    '''\n",
    "\n",
    "    books_div= (\n",
    "        scrap_site_html(_url_base + category + '/index.html')\n",
    "        .find_all('li',class_='col-xs-6 col-sm-4 col-md-3 col-lg-3')\n",
    "    )\n",
    "\n",
    "\n",
    "    for book in books_div:\n",
    "        '''\n",
    "        clean empty values at the string\n",
    "        and return all text fields stored in html code\n",
    "        '''\n",
    "        _book = (\n",
    "            book\n",
    "            .get_text()\n",
    "            .replace('\\n',',')\n",
    "            .split(',')\n",
    "        )\n",
    "\n",
    "        '''\n",
    "        step used to call function\n",
    "        scrap_star_rating that return the book rating\n",
    "        '''\n",
    "        temp_list= [item.strip() for item in _book if item.strip() != '']\n",
    "        temp_list.append(scrap_star_rating(book))\n",
    "        temp_list.append(category)\n",
    "        temp_list.pop(3)\n",
    "        _book_data.append(temp_list)  \n",
    "\n",
    "    return _book_data\n",
    "#    "
   ]
  },
  {
   "cell_type": "code",
   "execution_count": 3,
   "metadata": {
    "ExecuteTime": {
     "end_time": "2023-08-09T22:22:51.947077800Z",
     "start_time": "2023-08-09T22:22:51.912234400Z"
    }
   },
   "outputs": [],
   "source": [
    "site_url = 'http://books.toscrape.com/index.html'"
   ]
  },
  {
   "cell_type": "code",
   "execution_count": 10,
   "outputs": [],
   "source": [
    "all_books = []"
   ],
   "metadata": {
    "collapsed": false,
    "ExecuteTime": {
     "end_time": "2023-08-09T22:35:08.084079900Z",
     "start_time": "2023-08-09T22:35:08.054654300Z"
    }
   }
  },
  {
   "cell_type": "code",
   "execution_count": 11,
   "metadata": {
    "ExecuteTime": {
     "end_time": "2023-08-09T22:35:32.980425700Z",
     "start_time": "2023-08-09T22:35:09.378355900Z"
    }
   },
   "outputs": [],
   "source": [
    "for category in scrap_books_category(site_url)[:-19]:\n",
    "    all_books.append(scrap_books_data(category))"
   ]
  },
  {
   "cell_type": "code",
   "execution_count": 14,
   "outputs": [
    {
     "name": "stdout",
     "output_type": "stream",
     "text": [
      "[['Sharp Objects', '£47.82', 'In stock', 'star-rating Four', 'mystery_3'], ['In a Dark', 'Dark ...', '£19.63', 'Add to basket', 'star-rating One', 'mystery_3'], ['The Past Never Ends', '£56.50', 'In stock', 'star-rating Four', 'mystery_3'], ['A Murder in Time', '£16.64', 'In stock', 'star-rating One', 'mystery_3'], ['The Murder of Roger ...', '£44.10', 'In stock', 'star-rating Four', 'mystery_3'], ['The Last Mile (Amos ...', '£54.21', 'In stock', 'star-rating Two', 'mystery_3'], ['That Darkness (Gardiner and ...', '£13.92', 'In stock', 'star-rating One', 'mystery_3'], ['Tastes Like Fear (DI ...', '£10.69', 'In stock', 'star-rating One', 'mystery_3'], ['A Time of Torment ...', '£48.35', 'In stock', 'star-rating Five', 'mystery_3'], ['A Study in Scarlet ...', '£16.73', 'In stock', 'star-rating Two', 'mystery_3'], ['Poisonous (Max Revere Novels ...', '£26.80', 'In stock', 'star-rating Three', 'mystery_3'], ['Murder at the 42nd ...', '£54.36', 'In stock', 'star-rating Four', 'mystery_3'], ['Most Wanted', '£35.28', 'In stock', 'star-rating Three', 'mystery_3'], ['Hide Away (Eve Duncan ...', '£11.84', 'In stock', 'star-rating One', 'mystery_3'], ['Boar Island (Anna Pigeon ...', '£59.48', 'In stock', 'star-rating Three', 'mystery_3'], ['The Widow', '£27.26', 'In stock', 'star-rating Two', 'mystery_3'], ['Playing with Fire', '£13.71', 'In stock', 'star-rating Three', 'mystery_3'], ['What Happened on Beale ...', '£25.37', 'In stock', 'star-rating Five', 'mystery_3'], [\"The Bachelor Girl's Guide ...\", '£52.30', 'In stock', 'star-rating Five', 'mystery_3'], ['Delivering the Truth (Quaker ...', '£20.89', 'In stock', 'star-rating Four', 'mystery_3']]\n"
     ]
    }
   ],
   "source": [
    "print(all_books[0])"
   ],
   "metadata": {
    "collapsed": false,
    "ExecuteTime": {
     "end_time": "2023-08-09T22:53:24.937287800Z",
     "start_time": "2023-08-09T22:53:24.824773600Z"
    }
   }
  },
  {
   "cell_type": "code",
   "execution_count": 15,
   "outputs": [
    {
     "name": "stdout",
     "output_type": "stream",
     "text": [
      "[[['Sharp Objects', '£47.82', 'In stock', 'star-rating Four', 'mystery_3'], ['In a Dark', 'Dark ...', '£19.63', 'Add to basket', 'star-rating One', 'mystery_3'], ['The Past Never Ends', '£56.50', 'In stock', 'star-rating Four', 'mystery_3'], ['A Murder in Time', '£16.64', 'In stock', 'star-rating One', 'mystery_3'], ['The Murder of Roger ...', '£44.10', 'In stock', 'star-rating Four', 'mystery_3'], ['The Last Mile (Amos ...', '£54.21', 'In stock', 'star-rating Two', 'mystery_3'], ['That Darkness (Gardiner and ...', '£13.92', 'In stock', 'star-rating One', 'mystery_3'], ['Tastes Like Fear (DI ...', '£10.69', 'In stock', 'star-rating One', 'mystery_3'], ['A Time of Torment ...', '£48.35', 'In stock', 'star-rating Five', 'mystery_3'], ['A Study in Scarlet ...', '£16.73', 'In stock', 'star-rating Two', 'mystery_3'], ['Poisonous (Max Revere Novels ...', '£26.80', 'In stock', 'star-rating Three', 'mystery_3'], ['Murder at the 42nd ...', '£54.36', 'In stock', 'star-rating Four', 'mystery_3'], ['Most Wanted', '£35.28', 'In stock', 'star-rating Three', 'mystery_3'], ['Hide Away (Eve Duncan ...', '£11.84', 'In stock', 'star-rating One', 'mystery_3'], ['Boar Island (Anna Pigeon ...', '£59.48', 'In stock', 'star-rating Three', 'mystery_3'], ['The Widow', '£27.26', 'In stock', 'star-rating Two', 'mystery_3'], ['Playing with Fire', '£13.71', 'In stock', 'star-rating Three', 'mystery_3'], ['What Happened on Beale ...', '£25.37', 'In stock', 'star-rating Five', 'mystery_3'], [\"The Bachelor Girl's Guide ...\", '£52.30', 'In stock', 'star-rating Five', 'mystery_3'], ['Delivering the Truth (Quaker ...', '£20.89', 'In stock', 'star-rating Four', 'mystery_3']], [['Tipping the Velvet', '£53.74', 'In stock', 'star-rating One', 'historical-fiction_4'], ['Forever and Forever: The ...', '£29.69', 'In stock', 'star-rating Three', 'historical-fiction_4'], ['A Flight of Arrows ...', '£55.53', 'In stock', 'star-rating Five', 'historical-fiction_4'], ['The House by the ...', '£36.95', 'In stock', 'star-rating One', 'historical-fiction_4'], ['Mrs. Houdini', '£30.25', 'In stock', 'star-rating Five', 'historical-fiction_4'], ['The Marriage of Opposites', '£28.08', 'In stock', 'star-rating Four', 'historical-fiction_4'], ['Glory over Everything: Beyond ...', '£45.84', 'In stock', 'star-rating Three', 'historical-fiction_4'], ['Love', 'Lies and Spies', '£20.55', 'Add to basket', 'star-rating Two', 'historical-fiction_4'], ['A Paris Apartment', '£39.01', 'In stock', 'star-rating Four', 'historical-fiction_4'], ['Lilac Girls', '£17.28', 'In stock', 'star-rating Two', 'historical-fiction_4'], ['The Constant Princess (The ...', '£16.62', 'In stock', 'star-rating Three', 'historical-fiction_4'], ['The Invention of Wings', '£37.34', 'In stock', 'star-rating One', 'historical-fiction_4'], ['World Without End (The ...', '£32.97', 'In stock', 'star-rating Four', 'historical-fiction_4'], ['The Passion of Dolssa', '£28.32', 'In stock', 'star-rating Five', 'historical-fiction_4'], ['Girl With a Pearl ...', '£26.77', 'In stock', 'star-rating One', 'historical-fiction_4'], ['Voyager (Outlander #3)', '£21.07', 'In stock', 'star-rating Five', 'historical-fiction_4'], ['The Red Tent', '£35.66', 'In stock', 'star-rating Five', 'historical-fiction_4'], ['The Last Painting of ...', '£55.55', 'In stock', 'star-rating Two', 'historical-fiction_4'], ['The Guernsey Literary and ...', '£49.53', 'In stock', 'star-rating One', 'historical-fiction_4'], ['Girl in the Blue ...', '£46.83', 'In stock', 'star-rating Two', 'historical-fiction_4']], [[\"Scott Pilgrim's Precious Little ...\", '£52.29', 'In stock', 'star-rating Five', 'sequential-art_5'], ['Tsubasa: WoRLD CHRoNiCLE 2 ...', '£16.28', 'In stock', 'star-rating One', 'sequential-art_5'], ['This One Summer', '£19.49', 'In stock', 'star-rating Four', 'sequential-art_5'], ['The Nameless City (The ...', '£38.16', 'In stock', 'star-rating Four', 'sequential-art_5'], ['Saga', 'Volume 5 (Saga ...', '£51.04', 'Add to basket', 'star-rating Two', 'sequential-art_5'], ['Rat Queens', 'Vol. 3: ...', '£50.40', 'Add to basket', 'star-rating Three', 'sequential-art_5'], ['Princess Jellyfish 2-in-1 Omnibus', '...', '£13.61', 'Add to basket', 'star-rating Five', 'sequential-art_5'], ['Pop Gun War', 'Volume ...', '£18.97', 'Add to basket', 'star-rating One', 'sequential-art_5'], ['Patience', '£10.16', 'In stock', 'star-rating Three', 'sequential-art_5'], ['Outcast', 'Vol. 1: A ...', '£15.44', 'Add to basket', 'star-rating Four', 'sequential-art_5'], ['orange: The Complete Collection ...', '£48.41', 'In stock', 'star-rating One', 'sequential-art_5'], ['Lumberjanes', 'Vol. 2: Friendship ...', '£46.91', 'Add to basket', 'star-rating Two', 'sequential-art_5'], ['Lumberjanes', 'Vol. 1: Beware ...', '£45.61', 'Add to basket', 'star-rating Three', 'sequential-art_5'], ['Lumberjanes Vol. 3: A ...', '£19.92', 'In stock', 'star-rating Two', 'sequential-art_5'], ['I Hate Fairyland', 'Vol. ...', '£29.17', 'Add to basket', 'star-rating Two', 'sequential-art_5'], ['I am a Hero ...', '£54.63', 'In stock', 'star-rating Three', 'sequential-art_5'], ['Giant Days', 'Vol. 2 ...', '£22.11', 'Add to basket', 'star-rating Two', 'sequential-art_5'], ['Danganronpa Volume 1', '£51.99', 'In stock', 'star-rating Four', 'sequential-art_5'], ['Codename Baboushka', 'Volume 1: ...', '£36.72', 'Add to basket', 'star-rating Four', 'sequential-art_5'], ['Camp Midnight', '£17.08', 'In stock', 'star-rating Four', 'sequential-art_5']], [['The Secret Garden', '£15.08', 'In stock', 'star-rating Four', 'classics_6'], ['The Metamorphosis', '£28.58', 'In stock', 'star-rating One', 'classics_6'], [\"The Pilgrim's Progress\", '£50.26', 'In stock', 'star-rating Two', 'classics_6'], ['The Hound of the ...', '£14.82', 'In stock', 'star-rating Two', 'classics_6'], ['Little Women (Little Women ...', '£28.07', 'In stock', 'star-rating Four', 'classics_6'], ['Gone with the Wind', '£32.49', 'In stock', 'star-rating Three', 'classics_6'], ['Candide', '£58.63', 'In stock', 'star-rating Three', 'classics_6'], ['Animal Farm', '£57.22', 'In stock', 'star-rating Three', 'classics_6'], ['Wuthering Heights', '£17.73', 'In stock', 'star-rating Three', 'classics_6'], ['The Picture of Dorian ...', '£29.70', 'In stock', 'star-rating Two', 'classics_6'], ['The Complete Stories and ...', '£26.78', 'In stock', 'star-rating Four', 'classics_6'], ['Beowulf', '£38.35', 'In stock', 'star-rating Two', 'classics_6'], ['And Then There Were ...', '£35.01', 'In stock', 'star-rating Two', 'classics_6'], ['The Story of Hong ...', '£43.19', 'In stock', 'star-rating Four', 'classics_6'], ['The Little Prince', '£45.42', 'In stock', 'star-rating Two', 'classics_6'], ['Sense and Sensibility', '£37.46', 'In stock', 'star-rating One', 'classics_6'], ['Of Mice and Men', '£47.11', 'In stock', 'star-rating Two', 'classics_6'], ['Emma', '£32.93', 'In stock', 'star-rating Two', 'classics_6'], [\"Alice in Wonderland (Alice's ...\", '£55.53', 'In stock', 'star-rating One', 'classics_6']], [[\"Sophie's World\", '£15.94', 'In stock', 'star-rating Five', 'philosophy_7'], ['The Death of Humanity: ...', '£58.11', 'In stock', 'star-rating Four', 'philosophy_7'], ['The Stranger', '£17.44', 'In stock', 'star-rating Four', 'philosophy_7'], ['Proofs of God: Classical ...', '£54.21', 'In stock', 'star-rating One', 'philosophy_7'], ['Kierkegaard: A Christian Missionary ...', '£47.13', 'In stock', 'star-rating One', 'philosophy_7'], ['At The Existentialist Café: ...', '£29.93', 'In stock', 'star-rating Five', 'philosophy_7'], ['Critique of Pure Reason', '£20.75', 'In stock', 'star-rating One', 'philosophy_7'], ['Run', 'Spot', 'Run: The ...', 'In stock', 'Add to basket', 'star-rating One', 'philosophy_7'], ['The Nicomachean Ethics', '£36.34', 'In stock', 'star-rating One', 'philosophy_7'], ['Meditations', '£25.89', 'In stock', 'star-rating Two', 'philosophy_7'], ['Beyond Good and Evil', '£43.38', 'In stock', 'star-rating One', 'philosophy_7']], [['Chase Me (Paris Nights ...', '£25.27', 'In stock', 'star-rating Five', 'romance_8'], ['Black Dust', '£34.53', 'In stock', 'star-rating Five', 'romance_8'], ['Her Backup Boyfriend (The ...', '£33.97', 'In stock', 'star-rating One', 'romance_8'], ['First and First (Five ...', '£15.97', 'In stock', 'star-rating Four', 'romance_8'], ['Fifty Shades Darker (Fifty ...', '£21.96', 'In stock', 'star-rating One', 'romance_8'], ['The Wedding Dress', '£24.12', 'In stock', 'star-rating One', 'romance_8'], ['Suddenly in Love (Lake ...', '£55.99', 'In stock', 'star-rating Two', 'romance_8'], ['Something More Than This', '£16.24', 'In stock', 'star-rating Four', 'romance_8'], ['Doing It Over (Most ...', '£35.61', 'In stock', 'star-rating Three', 'romance_8'], ['The Wedding Pact (The ...', '£32.61', 'In stock', 'star-rating Three', 'romance_8'], ['Hold Your Breath (Search ...', '£28.82', 'In stock', 'star-rating One', 'romance_8'], ['Dirty (Dive Bar #1)', '£40.83', 'In stock', 'star-rating Four', 'romance_8'], ['Take Me Home Tonight ...', '£53.98', 'In stock', 'star-rating Three', 'romance_8'], ['Off the Hook (Fishing ...', '£47.67', 'In stock', 'star-rating Three', 'romance_8'], [\"A Gentleman's Position (Society ...\", '£14.75', 'In stock', 'star-rating Five', 'romance_8'], ['Sit', 'Stay', 'Love', 'In stock', 'Add to basket', 'star-rating Three', 'romance_8'], [\"A Girl's Guide to ...\", '£31.30', 'In stock', 'star-rating One', 'romance_8'], ['The Perfect Play (Play ...', '£59.99', 'In stock', 'star-rating Three', 'romance_8'], ['Dark Lover (Black Dagger ...', '£12.87', 'In stock', 'star-rating One', 'romance_8'], ['Changing the Game (Play ...', '£13.38', 'In stock', 'star-rating Three', 'romance_8']], [['I Had a Nice ...', '£57.36', 'In stock', 'star-rating Four', 'womens-fiction_9'], [\"Will You Won't You ...\", '£13.86', 'In stock', 'star-rating Three', 'womens-fiction_9'], ['Keep Me Posted', '£20.46', 'In stock', 'star-rating Four', 'womens-fiction_9'], ['Grey (Fifty Shades #4)', '£48.49', 'In stock', 'star-rating Four', 'womens-fiction_9'], ['Meternity', '£43.58', 'In stock', 'star-rating Three', 'womens-fiction_9'], ['Some Women', '£13.73', 'In stock', 'star-rating Five', 'womens-fiction_9'], ['Shopaholic Ties the Knot ...', '£48.39', 'In stock', 'star-rating Five', 'womens-fiction_9'], ['Can You Keep a ...', '£21.94', 'In stock', 'star-rating One', 'womens-fiction_9'], ['Twenties Girl', '£42.80', 'In stock', 'star-rating Two', 'womens-fiction_9'], ['The Undomestic Goddess', '£45.75', 'In stock', 'star-rating Four', 'womens-fiction_9'], ['The Nanny Diaries (Nanny ...', '£52.53', 'In stock', 'star-rating Five', 'womens-fiction_9'], ['The Devil Wears Prada ...', '£44.29', 'In stock', 'star-rating One', 'womens-fiction_9'], ['Something Borrowed (Darcy & ...', '£48.96', 'In stock', 'star-rating Five', 'womens-fiction_9'], ['Something Blue (Darcy & ...', '£54.62', 'In stock', 'star-rating One', 'womens-fiction_9'], [\"I've Got Your Number\", '£19.69', 'In stock', 'star-rating One', 'womens-fiction_9'], ['The Edge of Reason ...', '£19.18', 'In stock', 'star-rating Four', 'womens-fiction_9'], [\"Bridget Jones's Diary (Bridget ...\", '£29.82', 'In stock', 'star-rating One', 'womens-fiction_9']], [['Soumission', '£50.10', 'In stock', 'star-rating One', 'fiction_10'], ['Private Paris (Private #10)', '£47.61', 'In stock', 'star-rating Five', 'fiction_10'], ['We Love You', 'Charlie ...', '£50.27', 'Add to basket', 'star-rating Five', 'fiction_10'], ['Thirst', '£17.27', 'In stock', 'star-rating Five', 'fiction_10'], ['The Murder That Never ...', '£54.11', 'In stock', 'star-rating Three', 'fiction_10'], ['Tuesday Nights in 1980', '£21.04', 'In stock', 'star-rating Two', 'fiction_10'], ['The Vacationers', '£42.15', 'In stock', 'star-rating Four', 'fiction_10'], ['The Regional Office Is ...', '£51.36', 'In stock', 'star-rating Five', 'fiction_10'], ['Finders Keepers (Bill Hodges ...', '£53.53', 'In stock', 'star-rating Five', 'fiction_10'], ['The Time Keeper', '£27.88', 'In stock', 'star-rating Five', 'fiction_10'], ['The Testament of Mary', '£52.67', 'In stock', 'star-rating Four', 'fiction_10'], ['The First Hostage (J.B. ...', '£25.85', 'In stock', 'star-rating Three', 'fiction_10'], ['Take Me with You', '£45.21', 'In stock', 'star-rating Three', 'fiction_10'], ['Still Life with Bread ...', '£26.41', 'In stock', 'star-rating Three', 'fiction_10'], ['Shtum', '£55.84', 'In stock', 'star-rating Four', 'fiction_10'], ['My Name Is Lucy ...', '£41.56', 'In stock', 'star-rating One', 'fiction_10'], ['My Mrs. Brown', '£24.48', 'In stock', 'star-rating Three', 'fiction_10'], ['Mr. Mercedes (Bill Hodges ...', '£28.90', 'In stock', 'star-rating One', 'fiction_10'], ['I Am Pilgrim (Pilgrim ...', '£10.60', 'In stock', 'star-rating Four', 'fiction_10'], ['Eligible (The Austen Project ...', '£27.09', 'In stock', 'star-rating Three', 'fiction_10']], [['Birdsong: A Story in ...', '£54.64', 'In stock', 'star-rating Three', 'childrens_11'], ['The Bear and the ...', '£36.89', 'In stock', 'star-rating One', 'childrens_11'], ['The Secret of Dreadwillow ...', '£56.13', 'In stock', 'star-rating One', 'childrens_11'], ['The White Cat and ...', '£58.08', 'In stock', 'star-rating Four', 'childrens_11'], ['Little Red', '£13.47', 'In stock', 'star-rating Three', 'childrens_11'], [\"Walt Disney's Alice in ...\", '£12.96', 'In stock', 'star-rating Five', 'childrens_11'], ['Twenty Yawns', '£22.08', 'In stock', 'star-rating Two', 'childrens_11'], ['Rain Fish', '£23.57', 'In stock', 'star-rating Three', 'childrens_11'], ['Once Was a Time', '£18.28', 'In stock', 'star-rating Two', 'childrens_11'], ['Luis Paints the World', '£53.95', 'In stock', 'star-rating Three', 'childrens_11'], ['Nap-a-Roo', '£25.08', 'In stock', 'star-rating One', 'childrens_11'], ['The Whale', '£35.96', 'In stock', 'star-rating Four', 'childrens_11'], ['Shrunken Treasures: Literary Classics', '...', '£52.87', 'Add to basket', 'star-rating Three', 'childrens_11'], ['Raymie Nightingale', '£34.41', 'In stock', 'star-rating Two', 'childrens_11'], ['Playing from the Heart', '£32.38', 'In stock', 'star-rating One', 'childrens_11'], ['Maybe Something Beautiful: How ...', '£22.54', 'In stock', 'star-rating One', 'childrens_11'], ['The Wild Robot', '£56.07', 'In stock', 'star-rating Three', 'childrens_11'], ['The Thing About Jellyfish', '£48.77', 'In stock', 'star-rating One', 'childrens_11'], ['The Lonely Ones', '£43.59', 'In stock', 'star-rating Five', 'childrens_11'], ['The Day the Crayons ...', '£26.33', 'In stock', 'star-rating Five', 'childrens_11']], [[\"Don't Be a Jerk: ...\", '£37.97', 'In stock', 'star-rating Two', 'religion_12'], ['You Are What You ...', '£21.87', 'In stock', 'star-rating Four', 'religion_12'], ['God: The Most Unpleasant ...', '£30.03', 'In stock', 'star-rating Five', 'religion_12'], ['The Book of Mormon', '£24.57', 'In stock', 'star-rating Three', 'religion_12'], ['A History of God: ...', '£27.62', 'In stock', 'star-rating One', 'religion_12'], ['The Bhagavad Gita', '£57.49', 'In stock', 'star-rating Three', 'religion_12'], ['Choosing Our Religion: The ...', '£28.42', 'In stock', 'star-rating Four', 'religion_12']], [['Worlds Elsewhere: Journeys Around ...', '£40.30', 'In stock', 'star-rating Five', 'nonfiction_13'], ['The Five Love Languages: ...', '£31.05', 'In stock', 'star-rating Three', 'nonfiction_13'], ['Reasons to Stay Alive', '£26.41', 'In stock', 'star-rating Two', 'nonfiction_13'], ['#HigherSelfie: Wake Up Your ...', '£23.11', 'In stock', 'star-rating Five', 'nonfiction_13'], ['Unseen City: The Majesty ...', '£44.18', 'In stock', 'star-rating Four', 'nonfiction_13'], ['Throwing Rocks at the ...', '£31.12', 'In stock', 'star-rating Three', 'nonfiction_13'], ['The Life-Changing Magic of ...', '£16.77', 'In stock', 'star-rating Three', 'nonfiction_13'], ['The Gutsy Girl: Escapades ...', '£37.13', 'In stock', 'star-rating One', 'nonfiction_13'], ['The Electric Pencil: Drawings ...', '£56.06', 'In stock', 'star-rating One', 'nonfiction_13'], ['Spark Joy: An Illustrated ...', '£41.83', 'In stock', 'star-rating Four', 'nonfiction_13'], ['Reskilling America: Learning to ...', '£19.83', 'In stock', 'star-rating Two', 'nonfiction_13'], ['In the Country We ...', '£22.00', 'In stock', 'star-rating Four', 'nonfiction_13'], ['Everydata: The Misinformation Hidden ...', '£54.35', 'In stock', 'star-rating Two', 'nonfiction_13'], ['Call the Nurse: True ...', '£29.14', 'In stock', 'star-rating Five', 'nonfiction_13'], ['Algorithms to Live By: ...', '£30.81', 'In stock', 'star-rating One', 'nonfiction_13'], ['The Power of Now: ...', '£43.54', 'In stock', 'star-rating Two', 'nonfiction_13'], [\"The Omnivore's Dilemma: A ...\", '£38.21', 'In stock', 'star-rating Two', 'nonfiction_13'], ['The Genius of Birds', '£17.24', 'In stock', 'star-rating One', 'nonfiction_13'], [\"The Artist's Way: A ...\", '£38.49', 'In stock', 'star-rating Five', 'nonfiction_13'], [\"So You've Been Publicly ...\", '£12.23', 'In stock', 'star-rating Two', 'nonfiction_13']], [['Rip it Up and ...', '£35.02', 'In stock', 'star-rating Five', 'music_14'], ['Our Band Could Be ...', '£57.25', 'In stock', 'star-rating Three', 'music_14'], ['How Music Works', '£37.32', 'In stock', 'star-rating Two', 'music_14'], ['Love Is a Mix ...', '£18.03', 'In stock', 'star-rating One', 'music_14'], ['Please Kill Me: The ...', '£31.19', 'In stock', 'star-rating Four', 'music_14'], [\"Kill 'Em and Leave: ...\", '£45.05', 'In stock', 'star-rating Five', 'music_14'], ['Chronicles', 'Vol. 1', '£52.60', 'Add to basket', 'star-rating Two', 'music_14'], ['This Is Your Brain ...', '£38.40', 'In stock', 'star-rating One', 'music_14'], ['Orchestra of Exiles: The ...', '£12.36', 'In stock', 'star-rating Three', 'music_14'], ['No One Here Gets ...', '£20.02', 'In stock', 'star-rating Five', 'music_14'], ['Life', '£31.58', 'In stock', 'star-rating Five', 'music_14'], ['Old Records Never Die: ...', '£55.66', 'In stock', 'star-rating Two', 'music_14'], ['Forever Rockers (The Rocker ...', '£28.80', 'In stock', 'star-rating Three', 'music_14']], [['The Coming Woman: A ...', '£17.93', 'In stock', 'star-rating Three', 'default_15'], ['The Boys in the ...', '£22.60', 'In stock', 'star-rating Four', 'default_15'], ['Starving Hearts (Triangular Trade ...', '£13.99', 'In stock', 'star-rating Two', 'default_15'], [\"America's Cradle of Quarterbacks: ...\", '£22.50', 'In stock', 'star-rating Three', 'default_15'], ['Aladdin and His Wonderful ...', '£53.13', 'In stock', 'star-rating Three', 'default_15'], ['Penny Maybe', '£33.29', 'In stock', 'star-rating Three', 'default_15'], ['Maude (1883-1993):She Grew Up ...', '£18.02', 'In stock', 'star-rating Two', 'default_15'], ['The Inefficiency Assassin: Time ...', '£20.59', 'In stock', 'star-rating Five', 'default_15'], ['Soul Reader', '£39.58', 'In stock', 'star-rating Two', 'default_15'], ['Bossypants', '£49.46', 'In stock', 'star-rating Two', 'default_15'], ['A World of Flavor: ...', '£42.95', 'In stock', 'star-rating One', 'default_15'], ['A Piece of Sky', '...', '£56.76', 'Add to basket', 'star-rating Five', 'default_15'], ['Tracing Numbers on a ...', '£41.60', 'In stock', 'star-rating Three', 'default_15'], ['Thirteen Reasons Why', '£52.72', 'In stock', 'star-rating One', 'default_15'], ['The Secret (The Secret ...', '£27.37', 'In stock', 'star-rating Four', 'default_15'], ['The Psychopath Test: A ...', '£36.00', 'In stock', 'star-rating Two', 'default_15'], ['The Kite Runner', '£41.82', 'In stock', 'star-rating Four', 'default_15'], ['The Girl on the ...', '£55.02', 'In stock', 'star-rating Two', 'default_15'], ['The Emerald Mystery', '£23.15', 'In stock', 'star-rating Two', 'default_15'], ['The Bridge to Consciousness: ...', '£32.00', 'In stock', 'star-rating Three', 'default_15']], [['Mesaerion: The Best Science ...', '£37.59', 'In stock', 'star-rating One', 'science-fiction_16'], ['Join', '£35.67', 'In stock', 'star-rating Five', 'science-fiction_16'], [\"William Shakespeare's Star Wars: ...\", '£43.30', 'In stock', 'star-rating Four', 'science-fiction_16'], ['The Project', '£10.65', 'In stock', 'star-rating One', 'science-fiction_16'], ['Soft Apocalypse', '£26.12', 'In stock', 'star-rating Two', 'science-fiction_16'], ['Sleeping Giants (Themis Files ...', '£48.74', 'In stock', 'star-rating One', 'science-fiction_16'], ['Arena', '£21.36', 'In stock', 'star-rating Four', 'science-fiction_16'], ['Foundation (Foundation (Publication Order) ...', '£32.42', 'In stock', 'star-rating One', 'science-fiction_16'], ['The Restaurant at the ...', '£10.92', 'In stock', 'star-rating One', 'science-fiction_16'], ['Ready Player One', '£19.07', 'In stock', 'star-rating Four', 'science-fiction_16'], ['Life', 'the Universe and ...', '£33.26', 'Add to basket', 'star-rating Two', 'science-fiction_16'], ['Dune (Dune #1)', '£54.86', 'In stock', 'star-rating One', 'science-fiction_16'], ['Do Androids Dream of ...', '£51.48', 'In stock', 'star-rating One', 'science-fiction_16'], ['Three Wishes (River of ...', '£44.18', 'In stock', 'star-rating Two', 'science-fiction_16'], ['The Last Girl (The ...', '£36.26', 'In stock', 'star-rating Two', 'science-fiction_16'], [\"Having the Barbarian's Baby ...\", '£34.96', 'In stock', 'star-rating Four', 'science-fiction_16']], [['The Book of Basketball: ...', '£44.84', 'In stock', 'star-rating Five', 'sports-and-games_17'], ['Friday Night Lights: A ...', '£51.22', 'In stock', 'star-rating Three', 'sports-and-games_17'], ['Sugar Rush (Offensive Line ...', '£24.42', 'In stock', 'star-rating One', 'sports-and-games_17'], ['Settling the Score (The ...', '£44.91', 'In stock', 'star-rating Two', 'sports-and-games_17'], ['Icing (Aces Hockey #2)', '£40.44', 'In stock', 'star-rating Four', 'sports-and-games_17']], [['The Torch Is Passed: ...', '£19.09', 'In stock', 'star-rating One', 'add-a-comment_18'], ['The Mindfulness and Acceptance ...', '£23.89', 'In stock', 'star-rating Four', 'add-a-comment_18'], ['The Art Forger', '£40.76', 'In stock', 'star-rating Three', 'add-a-comment_18'], ['On a Midnight Clear', '£14.07', 'In stock', 'star-rating Three', 'add-a-comment_18'], ['Judo: Seven Steps to ...', '£53.90', 'In stock', 'star-rating Two', 'add-a-comment_18'], ['Shobu Samurai', 'Project Aryoku ...', '£29.06', 'Add to basket', 'star-rating Three', 'add-a-comment_18'], ['Modern Romance', '£28.26', 'In stock', 'star-rating Five', 'add-a-comment_18'], ['The White Queen (The ...', '£25.91', 'In stock', 'star-rating Five', 'add-a-comment_18'], ['The Song of Achilles', '£37.40', 'In stock', 'star-rating Five', 'add-a-comment_18'], ['The Immortal Life of ...', '£40.67', 'In stock', 'star-rating Two', 'add-a-comment_18'], ['The Dovekeepers', '£48.78', 'In stock', 'star-rating One', 'add-a-comment_18'], ['More Than Music (Chasing ...', '£37.61', 'In stock', 'star-rating Two', 'add-a-comment_18'], ['Code Name Verity (Code ...', '£22.13', 'In stock', 'star-rating Four', 'add-a-comment_18'], ['Cell', '£20.29', 'In stock', 'star-rating Four', 'add-a-comment_18'], ['Angels Walking (Angels Walking ...', '£34.20', 'In stock', 'star-rating Two', 'add-a-comment_18'], ['A Series of Catastrophes ...', '£56.48', 'In stock', 'star-rating Two', 'add-a-comment_18'], [\"A People's History of ...\", '£40.79', 'In stock', 'star-rating Two', 'add-a-comment_18'], ['A Brush of Wings ...', '£55.51', 'In stock', 'star-rating One', 'add-a-comment_18'], ['Rook', '£37.86', 'In stock', 'star-rating Four', 'add-a-comment_18'], ['The Midnight Watch: A ...', '£26.20', 'In stock', 'star-rating One', 'add-a-comment_18']], [['Unicorn Tracks', '£18.78', 'In stock', 'star-rating Three', 'fantasy_19'], ['Saga', 'Volume 6 (Saga ...', '£25.02', 'Add to basket', 'star-rating Three', 'fantasy_19'], ['Princess Between Worlds (Wide-Awake ...', '£13.34', 'In stock', 'star-rating Five', 'fantasy_19'], ['Masks and Shadows', '£56.40', 'In stock', 'star-rating Two', 'fantasy_19'], ['Crown of Midnight (Throne ...', '£43.29', 'In stock', 'star-rating Three', 'fantasy_19'], ['Avatar: The Last Airbender: ...', '£28.09', 'In stock', 'star-rating Two', 'fantasy_19'], ['A Court of Thorns ...', '£52.37', 'In stock', 'star-rating One', 'fantasy_19'], ['Throne of Glass (Throne ...', '£35.07', 'In stock', 'star-rating Three', 'fantasy_19'], ['The Glittering Court (The ...', '£44.28', 'In stock', 'star-rating One', 'fantasy_19'], ['Hollow City (Miss Peregrine’s ...', '£42.98', 'In stock', 'star-rating One', 'fantasy_19'], ['The Star-Touched Queen', '£46.02', 'In stock', 'star-rating Five', 'fantasy_19'], ['The Hidden Oracle (The ...', '£52.26', 'In stock', 'star-rating Two', 'fantasy_19'], ['The Bane Chronicles (The ...', '£44.73', 'In stock', 'star-rating Four', 'fantasy_19'], ['Island of Dragons (Unwanteds ...', '£29.65', 'In stock', 'star-rating One', 'fantasy_19'], ['Demigods & Magicians: Percy ...', '£37.51', 'In stock', 'star-rating Five', 'fantasy_19'], ['City of Glass (The ...', '£56.02', 'In stock', 'star-rating Four', 'fantasy_19'], ['Searching for Meaning in ...', '£38.73', 'In stock', 'star-rating One', 'fantasy_19'], ['The Star-Touched Queen', '£32.30', 'In stock', 'star-rating Five', 'fantasy_19'], ['A Shard of Ice ...', '£56.63', 'In stock', 'star-rating Three', 'fantasy_19'], [\"King's Folly (The Kinsman ...\", '£39.61', 'In stock', 'star-rating Five', 'fantasy_19']], [['Without Borders (Wanderlove #1)', '£45.07', 'In stock', 'star-rating Two', 'new-adult_20'], ['The Mistake (Off-Campus #2)', '£43.29', 'In stock', 'star-rating Three', 'new-adult_20'], [\"The Matchmaker's Playbook (Wingmen ...\", '£55.85', 'In stock', 'star-rating One', 'new-adult_20'], ['The Hook Up (Game ...', '£36.29', 'In stock', 'star-rating Five', 'new-adult_20'], ['Shameless', '£58.35', 'In stock', 'star-rating Three', 'new-adult_20'], ['Off Sides (Off #1)', '£39.45', 'In stock', 'star-rating Five', 'new-adult_20']], [['The Requiem Red', '£22.65', 'In stock', 'star-rating One', 'young-adult_21'], ['Set Me Free', '£17.46', 'In stock', 'star-rating Five', 'young-adult_21'], ['The Natural History of ...', '£45.22', 'In stock', 'star-rating Three', 'young-adult_21'], ['Obsidian (Lux #1)', '£14.86', 'In stock', 'star-rating Two', 'young-adult_21'], ['Burning', '£28.81', 'In stock', 'star-rating Three', 'young-adult_21'], ['A Fierce and Subtle ...', '£28.13', 'In stock', 'star-rating Four', 'young-adult_21'], ['Scarlett Epstein Hates It ...', '£43.55', 'In stock', 'star-rating Five', 'young-adult_21'], ['Nightingale', 'Sing', '£38.28', 'Add to basket', 'star-rating One', 'young-adult_21'], ['Library of Souls (Miss ...', '£48.56', 'In stock', 'star-rating Five', 'young-adult_21'], ['Frostbite (Vampire Academy #2)', '£29.99', 'In stock', 'star-rating Five', 'young-adult_21'], ['Wild Swans', '£14.36', 'In stock', 'star-rating Two', 'young-adult_21'], ['Until Friday Night (The ...', '£46.31', 'In stock', 'star-rating Two', 'young-adult_21'], ['This Is Where It ...', '£27.12', 'In stock', 'star-rating Two', 'young-adult_21'], ['The Darkest Lie', '£35.35', 'In stock', 'star-rating Five', 'young-adult_21'], ['My Kind of Crazy', '£40.36', 'In stock', 'star-rating One', 'young-adult_21'], [\"Don't Get Caught\", '£55.35', 'In stock', 'star-rating One', 'young-adult_21'], ['Catching Jordan (Hundred Oaks)', '£50.83', 'In stock', 'star-rating Three', 'young-adult_21'], ['Aristotle and Dante Discover ...', '£58.14', 'In stock', 'star-rating Four', 'young-adult_21'], ['The Epidemic (The Program ...', '£14.44', 'In stock', 'star-rating Five', 'young-adult_21'], ['Stars Above (The Lunar ...', '£48.05', 'In stock', 'star-rating Two', 'young-adult_21']], [['The Most Perfect Thing: ...', '£42.96', 'In stock', 'star-rating Four', 'science_22'], ['Immunity: How Elie Metchnikoff ...', '£57.36', 'In stock', 'star-rating Five', 'science_22'], ['Sorting the Beef from ...', '£44.74', 'In stock', 'star-rating Four', 'science_22'], ['Tipping Point for Planet ...', '£37.55', 'In stock', 'star-rating One', 'science_22'], ['The Fabric of the ...', '£55.91', 'In stock', 'star-rating One', 'science_22'], ['Diary of a Citizen ...', '£28.41', 'In stock', 'star-rating One', 'science_22'], ['The Origin of Species', '£10.01', 'In stock', 'star-rating Four', 'science_22'], ['The Grand Design', '£13.76', 'In stock', 'star-rating Three', 'science_22'], ['Peak: Secrets from the ...', '£16.28', 'In stock', 'star-rating Two', 'science_22'], ['The Elegant Universe: Superstrings', '...', '£13.03', 'Add to basket', 'star-rating Four', 'science_22'], ['The Disappearing Spoon: And ...', '£57.35', 'In stock', 'star-rating Five', 'science_22'], [\"Surely You're Joking\", 'Mr. ...', '£25.83', 'Add to basket', 'star-rating Two', 'science_22'], ['Seven Brief Lessons on ...', '£30.60', 'In stock', 'star-rating Four', 'science_22'], ['The Selfish Gene', '£29.45', 'In stock', 'star-rating One', 'science_22']], [['A Light in the ...', '£51.77', 'In stock', 'star-rating Three', 'poetry_23'], ['The Black Maria', '£52.15', 'In stock', 'star-rating One', 'poetry_23'], [\"Shakespeare's Sonnets\", '£20.66', 'In stock', 'star-rating Four', 'poetry_23'], ['Olio', '£23.88', 'In stock', 'star-rating One', 'poetry_23'], [\"You can't bury them ...\", '£33.63', 'In stock', 'star-rating Two', 'poetry_23'], ['Slow States of Collapse: ...', '£57.31', 'In stock', 'star-rating Three', 'poetry_23'], ['Untitled Collection: Sabbath Poems ...', '£14.27', 'In stock', 'star-rating Four', 'poetry_23'], ['Poems That Make Grown ...', '£14.19', 'In stock', 'star-rating Four', 'poetry_23'], ['Night Sky with Exit ...', '£41.05', 'In stock', 'star-rating One', 'poetry_23'], ['salt.', '£46.78', 'In stock', 'star-rating Four', 'poetry_23'], ['Quarter Life Poetry: Poems ...', '£50.89', 'In stock', 'star-rating Five', 'poetry_23'], ['Out of Print: City ...', '£53.64', 'In stock', 'star-rating Five', 'poetry_23'], ['Les Fleurs du Mal', '£29.04', 'In stock', 'star-rating Five', 'poetry_23'], ['Howl and Other Poems', '£40.45', 'In stock', 'star-rating Two', 'poetry_23'], ['Leave This Song Behind: ...', '£51.17', 'In stock', 'star-rating Five', 'poetry_23'], ['The Collected Poems of ...', '£15.42', 'In stock', 'star-rating Five', 'poetry_23'], ['The Crossover', '£38.77', 'In stock', 'star-rating Four', 'poetry_23'], ['Booked', '£17.49', 'In stock', 'star-rating Five', 'poetry_23'], ['Twenty Love Poems and ...', '£30.95', 'In stock', 'star-rating Four', 'poetry_23']], [['Vampire Knight', 'Vol. 1 ...', '£15.40', 'Add to basket', 'star-rating One', 'paranormal_24']], [['Wall and Piece', '£44.18', 'In stock', 'star-rating Four', 'art_25'], ['Feathers: Displays of Brilliant ...', '£49.05', 'In stock', 'star-rating Three', 'art_25'], ['Art and Fear: Observations ...', '£48.63', 'In stock', 'star-rating Four', 'art_25'], ['The New Drawing on ...', '£43.02', 'In stock', 'star-rating Three', 'art_25'], ['History of Beauty', '£10.29', 'In stock', 'star-rating Four', 'art_25'], ['The Story of Art', '£41.14', 'In stock', 'star-rating Four', 'art_25'], ['The Art Book', '£32.34', 'In stock', 'star-rating Two', 'art_25'], ['Ways of Seeing', '£39.51', 'In stock', 'star-rating Five', 'art_25']], [['The Lucifer Effect: Understanding ...', '£10.40', 'In stock', 'star-rating One', 'psychology_26'], ['The Golden Condom: And ...', '£39.43', 'In stock', 'star-rating One', 'psychology_26'], [\"It Didn't Start with ...\", '£56.27', 'In stock', 'star-rating Three', 'psychology_26'], ['An Unquiet Mind: A ...', '£21.30', 'In stock', 'star-rating Three', 'psychology_26'], ['Thinking', 'Fast and Slow', '£21.14', 'Add to basket', 'star-rating One', 'psychology_26'], ['Civilization and Its Discontents', '£59.95', 'In stock', 'star-rating Two', 'psychology_26'], ['8 Keys to Mental ...', '£31.04', 'In stock', 'star-rating One', 'psychology_26']], [['The Argonauts', '£10.93', 'In stock', 'star-rating Two', 'autobiography_27'], ['M Train', '£27.18', 'In stock', 'star-rating One', 'autobiography_27'], ['Lab Girl', '£40.85', 'In stock', 'star-rating One', 'autobiography_27'], ['Approval Junkie: Adventures in ...', '£58.81', 'In stock', 'star-rating Five', 'autobiography_27'], ['Running with Scissors', '£12.91', 'In stock', 'star-rating Four', 'autobiography_27'], ['Me Talk Pretty One ...', '£57.60', 'In stock', 'star-rating Two', 'autobiography_27'], ['Lust & Wonder', '£11.87', 'In stock', 'star-rating Two', 'autobiography_27'], ['Life Without a Recipe', '£59.04', 'In stock', 'star-rating Five', 'autobiography_27'], ['A Heartbreaking Work of ...', '£54.29', 'In stock', 'star-rating Five', 'autobiography_27']], [['Catastrophic Happiness: Finding Joy ...', '£37.35', 'In stock', 'star-rating Two', 'parenting_28']], [['Fifty Shades Freed (Fifty ...', '£15.36', 'In stock', 'star-rating Five', 'adult-fiction_29']], [['The Long Haul (Diary ...', '£44.07', 'In stock', 'star-rating One', 'humor_30'], ['Old School (Diary of ...', '£11.83', 'In stock', 'star-rating Five', 'humor_30'], [\"I Know What I'm ...\", '£25.98', 'In stock', 'star-rating Four', 'humor_30'], ['Hyperbole and a Half: ...', '£14.75', 'In stock', 'star-rating Five', 'humor_30'], ['Dress Your Family in ...', '£43.68', 'In stock', 'star-rating Three', 'humor_30'], [\"Toddlers Are A**holes: It's ...\", '£25.55', 'In stock', 'star-rating One', 'humor_30'], ['When You Are Engulfed ...', '£30.89', 'In stock', 'star-rating Five', 'humor_30'], ['Naked', '£31.69', 'In stock', 'star-rating Three', 'humor_30'], ['Lamb: The Gospel According ...', '£55.50', 'In stock', 'star-rating Five', 'humor_30'], ['Holidays on Ice', '£51.07', 'In stock', 'star-rating Two', 'humor_30']], [['Security', '£39.25', 'In stock', 'star-rating Two', 'horror_31'], ['Follow You Home', '£21.36', 'In stock', 'star-rating One', 'horror_31'], ['The Loney', '£23.40', 'In stock', 'star-rating One', 'horror_31'], ['Pet Sematary', '£10.56', 'In stock', 'star-rating Three', 'horror_31'], ['Doctor Sleep (The Shining ...', '£40.12', 'In stock', 'star-rating Two', 'horror_31'], ['Psycho: Sanitarium (Psycho #1.5)', '£36.97', 'In stock', 'star-rating Five', 'horror_31'], ['Can You Keep a ...', '£48.64', 'In stock', 'star-rating One', 'horror_31'], ['Red Dragon (Hannibal Lecter ...', '£23.37', 'In stock', 'star-rating Three', 'horror_31'], ['Dracula the Un-Dead', '£35.63', 'In stock', 'star-rating Five', 'horror_31'], ['Night Shift (Night Shift ...', '£12.75', 'In stock', 'star-rating Four', 'horror_31'], ['Needful Things', '£47.51', 'In stock', 'star-rating Four', 'horror_31'], ['Misery', '£34.79', 'In stock', 'star-rating Two', 'horror_31'], ['It', '£25.01', 'In stock', 'star-rating Three', 'horror_31'], [\"'Salem's Lot\", '£49.56', 'In stock', 'star-rating Four', 'horror_31'], ['The Stand', '£57.86', 'In stock', 'star-rating Two', 'horror_31'], ['The Girl with All ...', '£49.47', 'In stock', 'star-rating Three', 'horror_31'], ['House of Leaves', '£54.89', 'In stock', 'star-rating One', 'horror_31']], [['Sapiens: A Brief History ...', '£54.23', 'In stock', 'star-rating Five', 'history_32'], ['Unbound: How Eight Technologies ...', '£25.52', 'In stock', 'star-rating One', 'history_32'], ['The Age of Genius: ...', '£19.73', 'In stock', 'star-rating One', 'history_32'], ['Political Suicide: Missteps', 'Peccadilloes', '...', 'In stock', 'Add to basket', 'star-rating Two', 'history_32'], ['Thomas Jefferson and the ...', '£59.64', 'In stock', 'star-rating One', 'history_32'], ['Zealot: The Life and ...', '£24.70', 'In stock', 'star-rating Three', 'history_32'], ['A Distant Mirror: The ...', '£14.58', 'In stock', 'star-rating Three', 'history_32'], ['1491: New Revelations of ...', '£21.80', 'In stock', 'star-rating Three', 'history_32'], ['Brilliant Beacons: A History ...', '£11.45', 'In stock', 'star-rating Three', 'history_32'], ['\"Most Blessed of the ...', '£44.48', 'In stock', 'star-rating Five', 'history_32'], ['A Short History of ...', '£52.40', 'In stock', 'star-rating Five', 'history_32'], ['The Rise and Fall ...', '£39.67', 'In stock', 'star-rating Two', 'history_32'], ['Catherine the Great: Portrait ...', '£58.55', 'In stock', 'star-rating Four', 'history_32'], ['The Mathews Men: Seven ...', '£42.91', 'In stock', 'star-rating Five', 'history_32'], ['The Hiding Place', '£55.91', 'In stock', 'star-rating Four', 'history_32'], [\"America's War for the ...\", '£51.22', 'In stock', 'star-rating Two', 'history_32'], ['The Guns of August', '£14.54', 'In stock', 'star-rating Two', 'history_32'], ['House of Lost Worlds: ...', '£43.70', 'In stock', 'star-rating Two', 'history_32']], [['Foolproof Preserving: A Guide ...', '£30.52', 'In stock', 'star-rating Three', 'food-and-drink_33'], ['The Pioneer Woman Cooks: ...', '£56.41', 'In stock', 'star-rating One', 'food-and-drink_33'], ['My Paris Kitchen: Recipes ...', '£33.37', 'In stock', 'star-rating Two', 'food-and-drink_33'], ['Mama Tried: Traditional Italian ...', '£14.02', 'In stock', 'star-rating Four', 'food-and-drink_33'], ['Layered: Baking', 'Building', 'and ...', 'In stock', 'Add to basket', 'star-rating One', 'food-and-drink_33'], ['The Nerdy Nummies Cookbook: ...', '£37.34', 'In stock', 'star-rating Five', 'food-and-drink_33'], ['The Love and Lemons ...', '£37.60', 'In stock', 'star-rating Two', 'food-and-drink_33'], ['The Cookies & Cups ...', '£41.25', 'In stock', 'star-rating One', 'food-and-drink_33'], ['Deliciously Ella Every Day: ...', '£42.16', 'In stock', 'star-rating Three', 'food-and-drink_33'], ['The Help Yourself Cookbook ...', '£28.77', 'In stock', 'star-rating Three', 'food-and-drink_33'], [\"It's All Easy: Healthy\", '...', '£19.55', 'Add to basket', 'star-rating One', 'food-and-drink_33'], ['Barefoot Contessa Back to ...', '£28.01', 'In stock', 'star-rating One', 'food-and-drink_33'], ['Barefoot Contessa at Home: ...', '£50.62', 'In stock', 'star-rating Five', 'food-and-drink_33'], ['My Kitchen Year: 136 ...', '£11.53', 'In stock', 'star-rating Two', 'food-and-drink_33'], ['Everyday Italian: 125 Simple ...', '£20.10', 'In stock', 'star-rating Five', 'food-and-drink_33'], ['A la Mode: 120 ...', '£38.77', 'In stock', 'star-rating One', 'food-and-drink_33'], ['Cravings: Recipes for What ...', '£20.50', 'In stock', 'star-rating Three', 'food-and-drink_33'], ['The Moosewood Cookbook: Recipes ...', '£12.34', 'In stock', 'star-rating Four', 'food-and-drink_33'], ['32 Yolks', '£53.63', 'In stock', 'star-rating Two', 'food-and-drink_33'], ['Naturally Lean: 125 Nourishing ...', '£11.38', 'In stock', 'star-rating Five', 'food-and-drink_33']], [['Redeeming Love', '£20.47', 'In stock', 'star-rating Five', 'christian-fiction_34'], ['Close to You', '£49.46', 'In stock', 'star-rating Four', 'christian-fiction_34'], ['Shadows of the Past ...', '£39.67', 'In stock', 'star-rating Five', 'christian-fiction_34'], ['Like Never Before (Walker ...', '£28.77', 'In stock', 'star-rating Two', 'christian-fiction_34'], ['Counted With the Stars ...', '£17.97', 'In stock', 'star-rating Five', 'christian-fiction_34'], ['If I Run (If ...', '£49.97', 'In stock', 'star-rating Four', 'christian-fiction_34']], [['The Dirty Little Secrets ...', '£33.34', 'In stock', 'star-rating Four', 'business_35'], ['The Third Wave: An ...', '£12.61', 'In stock', 'star-rating Five', 'business_35'], ['The 10% Entrepreneur: Live ...', '£27.55', 'In stock', 'star-rating Three', 'business_35'], ['Shoe Dog: A Memoir ...', '£23.99', 'In stock', 'star-rating Two', 'business_35'], ['Made to Stick: Why ...', '£38.85', 'In stock', 'star-rating Five', 'business_35'], ['Quench Your Own Thirst: ...', '£43.14', 'In stock', 'star-rating One', 'business_35'], ['The Art of Startup ...', '£21.00', 'In stock', 'star-rating Three', 'business_35'], ['Born for This: How ...', '£21.59', 'In stock', 'star-rating Five', 'business_35'], ['The E-Myth Revisited: Why ...', '£36.91', 'In stock', 'star-rating One', 'business_35'], ['Rich Dad', 'Poor Dad', '£51.74', 'Add to basket', 'star-rating One', 'business_35'], ['The Lean Startup: How ...', '£33.92', 'In stock', 'star-rating Three', 'business_35'], ['Rework', '£44.88', 'In stock', 'star-rating Two', 'business_35']], [['Louisa: The Extraordinary Life ...', '£16.85', 'In stock', 'star-rating Two', 'biography_36'], ['Setting the World on ...', '£21.15', 'In stock', 'star-rating Two', 'biography_36'], ['The Faith of Christopher ...', '£39.55', 'In stock', 'star-rating One', 'biography_36'], ['Benjamin Franklin: An American ...', '£48.19', 'In stock', 'star-rating Three', 'biography_36'], ['The Rise of Theodore ...', '£42.57', 'In stock', 'star-rating Three', 'biography_36']], [['In Her Wake', '£12.84', 'In stock', 'star-rating One', 'thriller_37'], ['The Elephant Tree', '£23.82', 'In stock', 'star-rating Five', 'thriller_37'], ['Behind Closed Doors', '£52.22', 'In stock', 'star-rating Four', 'thriller_37'], ['You (You #1)', '£43.61', 'In stock', 'star-rating Five', 'thriller_37'], ['The Guilty (Will Robie ...', '£13.82', 'In stock', 'star-rating Two', 'thriller_37'], ['The 14th Colony (Cotton ...', '£39.24', 'In stock', 'star-rating One', 'thriller_37'], ['Give It Back', '£18.32', 'In stock', 'star-rating Two', 'thriller_37'], ['Killing Floor (Jack Reacher ...', '£31.49', 'In stock', 'star-rating Four', 'thriller_37'], ['The Bone Hunters (Lexy ...', '£59.71', 'In stock', 'star-rating Three', 'thriller_37'], ['Far From True (Promise ...', '£34.93', 'In stock', 'star-rating Two', 'thriller_37'], ['The Travelers', '£15.77', 'In stock', 'star-rating One', 'thriller_37']], [['When We Collided', '£31.77', 'In stock', 'star-rating One', 'contemporary_38'], ['Someone Like You (The ...', '£52.79', 'In stock', 'star-rating Five', 'contemporary_38'], ['We Are All Completely ...', '£24.04', 'In stock', 'star-rating One', 'contemporary_38']], [['The Four Agreements: A ...', '£17.66', 'In stock', 'star-rating Five', 'spirituality_39'], [\"The Activist's Tao Te ...\", '£32.24', 'In stock', 'star-rating Five', 'spirituality_39'], ['Chasing Heaven: What Dying ...', '£37.80', 'In stock', 'star-rating Two', 'spirituality_39'], ['If I Gave You ...', '£20.91', 'In stock', 'star-rating One', 'spirituality_39'], ['Unreasonable Hope: Finding Faith ...', '£46.33', 'In stock', 'star-rating Two', 'spirituality_39'], ['A New Earth: Awakening ...', '£55.65', 'In stock', 'star-rating Five', 'spirituality_39']], [['Logan Kade (Fallen Crest ...', '£13.12', 'In stock', 'star-rating Two', 'academic_40']], [['Online Marketing for Busy ...', '£46.35', 'In stock', 'star-rating One', 'self-help_41'], ['How to Be Miserable: ...', '£46.03', 'In stock', 'star-rating One', 'self-help_41'], ['Overload: How to Unplug', '...', '£52.15', 'Add to basket', 'star-rating Three', 'self-help_41'], ['You Are a Badass: ...', '£12.08', 'In stock', 'star-rating Three', 'self-help_41'], ['How to Stop Worrying ...', '£46.49', 'In stock', 'star-rating Five', 'self-help_41']], [['All the Light We ...', '£29.87', 'In stock', 'star-rating Five', 'historical_42'], ['The Girl You Left ...', '£15.79', 'In stock', 'star-rating One', 'historical_42']], [['(Un)Qualified: How God Uses ...', '£54.00', 'In stock', 'star-rating Five', 'christian_43'], ['Crazy Love: Overwhelmed by ...', '£47.72', 'In stock', 'star-rating Two', 'christian_43'], ['Blue Like Jazz: Nonreligious ...', '£25.77', 'In stock', 'star-rating One', 'christian_43']], [['Silence in the Dark ...', '£58.33', 'In stock', 'star-rating Three', 'suspense_44']], [['The Grownup', '£35.88', 'In stock', 'star-rating One', 'short-stories_45']], [['Suzie Snowflake: One beautiful ...', '£54.81', 'In stock', 'star-rating Five', 'novels_46']], [['The Bulletproof Diet: Lose ...', '£49.05', 'In stock', 'star-rating Three', 'health_47'], ['Eat Fat', 'Get Thin', '£54.07', 'Add to basket', 'star-rating Two', 'health_47'], ['10-Day Green Smoothie Cleanse: ...', '£49.71', 'In stock', 'star-rating Five', 'health_47'], ['The Art and Science ...', '£52.98', 'In stock', 'star-rating Five', 'health_47']], [['Libertarianism for Beginners', '£51.33', 'In stock', 'star-rating Two', 'politics_48'], ['Why the Right Went ...', '£52.65', 'In stock', 'star-rating Four', 'politics_48'], [\"Equal Is Unfair: America's ...\", '£56.86', 'In stock', 'star-rating One', 'politics_48']], [['Amid the Chaos', '£36.58', 'In stock', 'star-rating One', 'cultural_49']], [['Dark Notes', '£19.19', 'In stock', 'star-rating Five', 'erotica_50']], [['The Long Shadow of ...', '£10.97', 'In stock', 'star-rating One', 'crime_51']]]\n"
     ]
    }
   ],
   "source": [
    "print(all_books)"
   ],
   "metadata": {
    "collapsed": false,
    "ExecuteTime": {
     "end_time": "2023-08-09T23:56:46.715246Z",
     "start_time": "2023-08-09T23:56:46.675017700Z"
    }
   }
  },
  {
   "cell_type": "code",
   "execution_count": null,
   "outputs": [],
   "source": [
    "for category in scrap_books_category(site_url)[:-19]:\n",
    "    all_books.append(scrap_books_category(category))"
   ],
   "metadata": {
    "collapsed": false
   }
  },
  {
   "cell_type": "code",
   "execution_count": 16,
   "outputs": [
    {
     "name": "stdout",
     "output_type": "stream",
     "text": [
      "['mystery_3', 'historical-fiction_4', 'sequential-art_5', 'classics_6', 'philosophy_7', 'romance_8', 'womens-fiction_9', 'fiction_10', 'childrens_11', 'religion_12', 'nonfiction_13', 'music_14', 'default_15', 'science-fiction_16', 'sports-and-games_17', 'add-a-comment_18', 'fantasy_19', 'new-adult_20', 'young-adult_21', 'science_22', 'poetry_23', 'paranormal_24', 'art_25', 'psychology_26', 'autobiography_27', 'parenting_28', 'adult-fiction_29', 'humor_30', 'horror_31', 'history_32', 'food-and-drink_33', 'christian-fiction_34', 'business_35', 'biography_36', 'thriller_37', 'contemporary_38', 'spirituality_39', 'academic_40', 'self-help_41', 'historical_42', 'christian_43', 'suspense_44', 'short-stories_45', 'novels_46', 'health_47', 'politics_48', 'cultural_49', 'erotica_50', 'crime_51']\n"
     ]
    }
   ],
   "source": [
    "teste_categorias = scrap_books_category(site_url)[:-19]\n",
    "\n",
    "print(teste_categorias)"
   ],
   "metadata": {
    "collapsed": false,
    "ExecuteTime": {
     "end_time": "2023-08-10T04:04:54.439375300Z",
     "start_time": "2023-08-10T04:04:53.119087300Z"
    }
   }
  }
 ],
 "metadata": {
  "kernelspec": {
   "display_name": "base",
   "language": "python",
   "name": "python3"
  },
  "language_info": {
   "codemirror_mode": {
    "name": "ipython",
    "version": 3
   },
   "file_extension": ".py",
   "mimetype": "text/x-python",
   "name": "python",
   "nbconvert_exporter": "python",
   "pygments_lexer": "ipython3",
   "version": "3.10.12"
  },
  "orig_nbformat": 4
 },
 "nbformat": 4,
 "nbformat_minor": 2
}
