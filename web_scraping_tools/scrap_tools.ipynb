{
 "cells": [
  {
   "cell_type": "code",
   "execution_count": 2,
   "id": "initial_id",
   "metadata": {
    "collapsed": true,
    "ExecuteTime": {
     "end_time": "2023-08-10T01:40:16.329629800Z",
     "start_time": "2023-08-10T01:40:15.530823Z"
    }
   },
   "outputs": [],
   "source": [
    "# Libs\n",
    "import requests\n",
    "from bs4 import BeautifulSoup"
   ]
  },
  {
   "cell_type": "code",
   "execution_count": 14,
   "outputs": [],
   "source": [
    "\n",
    "\n",
    "\n",
    "def get_page_links(html):\n",
    "    \"\"\"\n",
    "    when calls the function returns\n",
    "    a list with all relevant links \n",
    "    in the refered page.\n",
    "    \"\"\"\n",
    "    _temp_links= []\n",
    "    _html_links= (\n",
    "        BeautifulSoup(str(html),'html.parser')\n",
    "        .find_all('a')        \n",
    "    )\n",
    "    for i in _html_links[::2]:\n",
    "        _formated_link= (\n",
    "            str(i)\n",
    "            .split('\"')[1]\n",
    "            .replace('../','')\n",
    "        ) \n",
    "        _temp_links.append(_formated_link)\n",
    "    \n",
    "    return _temp_links\n",
    "    "
   ],
   "metadata": {
    "collapsed": false,
    "ExecuteTime": {
     "end_time": "2023-08-10T01:45:58.654863200Z",
     "start_time": "2023-08-10T01:45:58.635799400Z"
    }
   },
   "id": "f9c5cfcb95d552fc"
  },
  {
   "cell_type": "code",
   "execution_count": 10,
   "outputs": [],
   "source": [
    "html_code = \"\"\"\n",
    "<a href=\"../../../its-only-the-himalayas_981/index.html\"><img alt=\"It's Only the Himalayas\" class=\"thumbnail\" src=\"../../../../media/cache/27/a5/27a53d0bb95bdd88288eaf66c9230d7e.jpg\"/></a>, <a href=\"../../../its-only-the-himalayas_981/index.html\" title=\"It's Only the Himalayas\">It's Only the Himalayas</a>, <a href=\"../../../full-moon-over-noahs-ark-an-odyssey-to-mount-ararat-and-beyond_811/index.html\"><img alt=\"Full Moon over Noah’s Ark: An Odyssey to Mount Ararat and Beyond\" class=\"thumbnail\" src=\"../../../../media/cache/57/77/57770cac1628f4407636635f4b85e88c.jpg\"/></a>, <a href=\"../../../full-moon-over-noahs-ark-an-odyssey-to-mount-ararat-and-beyond_811/index.html\" title=\"Full Moon over Noah’s Ark: An Odyssey to Mount Ararat and Beyond\">Full Moon over Noah’s ...</a>, <a href=\"../../../see-america-a-celebration-of-our-national-parks-treasured-sites_732/index.html\"><img alt=\"See America: A Celebration of Our National Parks &amp; Treasured Sites\" class=\"thumbnail\" src=\"../../../../media/cache/9a/7e/9a7e63f12829df4b43b31d110bf3dc2e.jpg\"/></a>, <a href=\"../../../see-america-a-celebration-of-our-national-parks-treasured-sites_732/index.html\" title=\"See America: A Celebration of Our National Parks &amp; Treasured Sites\">See America: A Celebration ...</a>, <a href=\"../../../vagabonding-an-uncommon-guide-to-the-art-of-long-term-world-travel_552/index.html\"><img alt=\"Vagabonding: An Uncommon Guide to the Art of Long-Term World Travel\" class=\"thumbnail\" src=\"../../../../media/cache/d5/bf/d5bf0090470b0b8ea46d9c166f7895aa.jpg\"/></a>, <a href=\"../../../vagabonding-an-uncommon-guide-to-the-art-of-long-term-world-travel_552/index.html\" title=\"Vagabonding: An Uncommon Guide to the Art of Long-Term World Travel\">Vagabonding: An Uncommon Guide ...</a>, <a href=\"../../../under-the-tuscan-sun_504/index.html\"><img alt=\"Under the Tuscan Sun\" class=\"thumbnail\" src=\"../../../../media/cache/98/c2/98c2e95c5fd1a4e7cd5f2b63c52826cb.jpg\"/></a>, <a href=\"../../../under-the-tuscan-sun_504/index.html\" title=\"Under the Tuscan Sun\">Under the Tuscan Sun</a>, <a href=\"../../../a-summer-in-europe_458/index.html\"><img alt=\"A Summer In Europe\" class=\"thumbnail\" src=\"../../../../media/cache/4e/15/4e15150388702ebca2c5a523ac270539.jpg\"/></a>, <a href=\"../../../a-summer-in-europe_458/index.html\" title=\"A Summer In Europe\">A Summer In Europe</a>, <a href=\"../../../the-great-railway-bazaar_446/index.html\"><img alt=\"The Great Railway Bazaar\" class=\"thumbnail\" src=\"../../../../media/cache/76/de/76de41867f323d7f1f4fbe2fdfc1b2ba.jpg\"/></a>, <a href=\"../../../the-great-railway-bazaar_446/index.html\" title=\"The Great Railway Bazaar\">The Great Railway Bazaar</a>, <a href=\"../../../a-year-in-provence-provence-1_421/index.html\"><img alt=\"A Year in Provence (Provence #1)\" class=\"thumbnail\" src=\"../../../../media/cache/db/46/db46159b05faa5d95262112bf9c29ddd.jpg\"/></a>, <a href=\"../../../a-year-in-provence-provence-1_421/index.html\" title=\"A Year in Provence (Provence #1)\">A Year in Provence ...</a>, <a href=\"../../../the-road-to-little-dribbling-adventures-of-an-american-in-britain-notes-from-a-small-island-2_277/index.html\"><img alt=\"The Road to Little Dribbling: Adventures of an American in Britain (Notes From a Small Island #2)\" class=\"thumbnail\" src=\"../../../../media/cache/e0/4f/e04f8eda2a2fa947aec17640202d9ab0.jpg\"/></a>, <a href=\"../../../the-road-to-little-dribbling-adventures-of-an-american-in-britain-notes-from-a-small-island-2_277/index.html\" title=\"The Road to Little Dribbling: Adventures of an American in Britain (Notes From a Small Island #2)\">The Road to Little ...</a>, <a href=\"../../../neither-here-nor-there-travels-in-europe_198/index.html\"><img alt=\"Neither Here nor There: Travels in Europe\" class=\"thumbnail\" src=\"../../../../media/cache/06/81/0681530a7bc301caf5c3257e1b0f0750.jpg\"/></a>, <a href=\"../../../neither-here-nor-there-travels-in-europe_198/index.html\" title=\"Neither Here nor There: Travels in Europe\">Neither Here nor There: ...</a>, <a href=\"../../../1000-places-to-see-before-you-die_1/index.html\"><img alt=\"1,000 Places to See Before You Die\" class=\"thumbnail\" src=\"../../../../media/cache/d7/0f/d70f7edd92705c45a82118c3ff6c299d.jpg\"/></a>, <a href=\"../../../1000-places-to-see-before-you-die_1/index.html\" title=\"1,000 Places to See Before You Die\">1,000 Places to See ...</a>\n",
    "\"\"\""
   ],
   "metadata": {
    "collapsed": false,
    "ExecuteTime": {
     "end_time": "2023-08-10T01:42:15.611610400Z",
     "start_time": "2023-08-10T01:42:15.588935100Z"
    }
   },
   "id": "30d591198e99dbf6"
  },
  {
   "cell_type": "code",
   "execution_count": 18,
   "outputs": [
    {
     "name": "stdout",
     "output_type": "stream",
     "text": [
      "['its-only-the-himalayas_981/index.html', 'full-moon-over-noahs-ark-an-odyssey-to-mount-ararat-and-beyond_811/index.html', 'see-america-a-celebration-of-our-national-parks-treasured-sites_732/index.html', 'vagabonding-an-uncommon-guide-to-the-art-of-long-term-world-travel_552/index.html', 'under-the-tuscan-sun_504/index.html', 'a-summer-in-europe_458/index.html', 'the-great-railway-bazaar_446/index.html', 'a-year-in-provence-provence-1_421/index.html', 'the-road-to-little-dribbling-adventures-of-an-american-in-britain-notes-from-a-small-island-2_277/index.html', 'neither-here-nor-there-travels-in-europe_198/index.html', '1000-places-to-see-before-you-die_1/index.html']\n"
     ]
    }
   ],
   "source": [
    "print(get_page_links(html_code))"
   ],
   "metadata": {
    "collapsed": false,
    "ExecuteTime": {
     "end_time": "2023-08-10T01:48:37.759224900Z",
     "start_time": "2023-08-10T01:48:37.736122800Z"
    }
   },
   "id": "b2391a4d9575638"
  },
  {
   "cell_type": "code",
   "execution_count": 20,
   "outputs": [],
   "source": [
    "def scrap_site_html(site_url):\n",
    "    '''\n",
    "    receive the site url as parameter\n",
    "    and request the html code\n",
    "    '''\n",
    "    _siteResponse = requests.get(site_url)\n",
    "    _soup = BeautifulSoup(_siteResponse.content,'html.parser')\n",
    "\n",
    "    return _soup"
   ],
   "metadata": {
    "collapsed": false,
    "ExecuteTime": {
     "end_time": "2023-08-10T02:00:52.297290500Z",
     "start_time": "2023-08-10T02:00:52.272207200Z"
    }
   },
   "id": "34da8770b2928d9b"
  },
  {
   "cell_type": "code",
   "execution_count": 113,
   "outputs": [],
   "source": [
    "def format_string(text):\n",
    "    _formated_text= (\n",
    "        text\n",
    "        .replace(',','')\n",
    "        .replace('.','')\n",
    "        .replace(\"'\",\"\")\n",
    "        .replace('—','')\n",
    "        .strip()\n",
    "    )\n",
    "    return _formated_text\n",
    "\n",
    "def replace_monetary(text):\n",
    "    _formated_text= (\n",
    "        str(text)\n",
    "        .replace('£','')\n",
    "        .split(')')[-1]\n",
    "        .strip()\n",
    "    )\n",
    "    return _formated_text\n",
    "    "
   ],
   "metadata": {
    "collapsed": false,
    "ExecuteTime": {
     "end_time": "2023-08-10T03:29:02.944093700Z",
     "start_time": "2023-08-10T03:29:02.925378700Z"
    }
   },
   "id": "2f86c4fdc6357125"
  },
  {
   "cell_type": "code",
   "execution_count": 164,
   "outputs": [],
   "source": [
    "def scrap_books_attribute(base_link):\n",
    "    catalog_path= 'https://books.toscrape.com/catalogue/'\n",
    "    \n",
    "    \"\"\"\n",
    "    get html code from the requested page\n",
    "    \"\"\"\n",
    "    _html_code_filtered= (\n",
    "        scrap_site_html(catalog_path+base_link)\n",
    "    )\n",
    "    \n",
    "    \"\"\"\n",
    "    filter only texts from the page\n",
    "    \"\"\"\n",
    "    _formated_str= (\n",
    "    _html_code_filtered\n",
    "    .get_text()\n",
    "    .strip()\n",
    "    .split('\\n')\n",
    "\n",
    "    )\n",
    "    \"\"\"\n",
    "    clean blanks spaces and convert to list\n",
    "    \"\"\"\n",
    "    _temp_list= [item.strip() for item in _formated_str if item.strip() != '']\n",
    "    \n",
    "    \"\"\"\n",
    "    formating the list values needed \n",
    "    \"\"\"\n",
    "    _final_list= {}\n",
    "    \n",
    "    _final_list['book_category']= _temp_list[4]\n",
    "    _final_list['book_title']= format_string(_temp_list[6])\n",
    "    _final_list['book_price']= replace_monetary(_temp_list[7])\n",
    "    _final_list['book_description']= format_string(_temp_list[11])\n",
    "    _final_list['upc_number']= str(_temp_list[13]).replace('UPC','')\n",
    "    _final_list['product_type']= str(_temp_list[14]).replace('Product Type','').lower()\n",
    "    _final_list['no_tax_price']= replace_monetary(_temp_list[15])\n",
    "    _final_list['w_tax_price']= replace_monetary(_temp_list[16])\n",
    "    _final_list['total_available']= _temp_list[19].split()[2].replace('(','')\n",
    "    _final_list['book_star']= scrap_star_rating(_html_code_filtered)\n",
    "\n",
    "    return _final_list\n",
    "    \n",
    "    \n",
    "    \n",
    "    \n",
    "    \n",
    "    "
   ],
   "metadata": {
    "collapsed": false,
    "ExecuteTime": {
     "end_time": "2023-08-10T03:56:47.067569600Z",
     "start_time": "2023-08-10T03:56:47.041531900Z"
    }
   },
   "id": "ff2247b981a82dd3"
  },
  {
   "cell_type": "code",
   "execution_count": 165,
   "outputs": [
    {
     "name": "stdout",
     "output_type": "stream",
     "text": [
      "{'book_category': 'Travel', 'book_title': 'Its Only the Himalayas', 'book_price': '45.17', 'book_description': '“Wherever you go whatever you do just    don’t do anything stupid” My MotherDuring her yearlong adventure backpacking from South Africa to Singapore S Bedford definitely did a few things her mother might classify as \"stupid\" She swam with great white sharks in South Africa ran from lions in Zimbabwe climbed a Himalayan mountain without training in Nepal and wa “Wherever you go whatever you do just    don’t do anything stupid” My MotherDuring her yearlong adventure backpacking from South Africa to Singapore S Bedford definitely did a few things her mother might classify as \"stupid\" She swam with great white sharks in South Africa ran from lions in Zimbabwe climbed a Himalayan mountain without training in Nepal and watched as her friend was attacked by a monkey in IndonesiaBut interspersed in those slightly more crazy moments Sue Bedfored and her friend \"Sara the Stoic\" experienced the sights sounds life and culture of fifteen countries Joined along the way by a few friends and their aging fathers here and there Sue and Sara experience the trip of a lifetime They fall in love with the world cultivate an appreciation for home and discover who or what they want to becomeIts Only the Himalayas is the incredibly funny sometimes outlandish always entertaining confession of a young backpacker that will inspire you to take your own adventure more', 'upc_number': 'a22124811bfa8350', 'product_type': 'books', 'no_tax_price': '45.17', 'w_tax_price': '45.17', 'total_available': '19', 'book_star': '2'}\n"
     ]
    }
   ],
   "source": [
    "print(scrap_books_attribute('its-only-the-himalayas_981/index.html'))"
   ],
   "metadata": {
    "collapsed": false,
    "ExecuteTime": {
     "end_time": "2023-08-10T03:56:49.839683Z",
     "start_time": "2023-08-10T03:56:49.097825Z"
    }
   },
   "id": "5e161dd23aa2eedd"
  },
  {
   "cell_type": "code",
   "execution_count": 96,
   "outputs": [],
   "source": [
    "book_category = temp_list[4]\n",
    "title = temp_list[6]\n",
    "price = temp_list[7]\n",
    "stock = temp_list[8]\n",
    "description = temp_list[11]\n",
    "upc = temp_list[13]\n",
    "product_type = temp_list[14].replace('Product Type','')\n",
    "no_tax_price = temp_list[15]\n",
    "tax_price= temp_list[16]\n",
    "total_tax= temp_list[17]\n",
    "availability =temp_list[19]"
   ],
   "metadata": {
    "collapsed": false,
    "ExecuteTime": {
     "end_time": "2023-08-10T03:18:17.664359900Z",
     "start_time": "2023-08-10T03:18:17.630674500Z"
    }
   },
   "id": "cc3a3730ccf5dfd5"
  },
  {
   "cell_type": "code",
   "execution_count": 46,
   "outputs": [],
   "source": [
    "catalog_path= 'https://books.toscrape.com/catalogue/'\n",
    "base_link= 'its-only-the-himalayas_981/index.html'\n",
    "\n",
    "_html_code= scrap_site_html(catalog_path+base_link)"
   ],
   "metadata": {
    "collapsed": false,
    "ExecuteTime": {
     "end_time": "2023-08-10T02:15:16.817224600Z",
     "start_time": "2023-08-10T02:15:16.128849900Z"
    }
   },
   "id": "423eaacd185cbe6"
  },
  {
   "cell_type": "code",
   "execution_count": 47,
   "outputs": [
    {
     "name": "stdout",
     "output_type": "stream",
     "text": [
      "0 --> It's Only the Himalayas | Books to Scrape - Sandbox\n",
      "1 --> Books to Scrape We love being scraped!\n",
      "2 --> Home\n",
      "3 --> Books\n",
      "4 --> Travel\n",
      "5 --> It's Only the Himalayas\n",
      "6 --> It's Only the Himalayas\n",
      "7 --> £45.17\n",
      "8 --> In stock (19 available)\n",
      "9 --> Warning! This is a demo website for web scraping purposes. Prices and ratings here were randomly assigned and have no real meaning.\n",
      "10 --> Product Description\n",
      "11 --> “Wherever you go, whatever you do, just . . . don’t do anything stupid.” —My MotherDuring her yearlong adventure backpacking from South Africa to Singapore, S. Bedford definitely did a few things her mother might classify as \"stupid.\" She swam with great white sharks in South Africa, ran from lions in Zimbabwe, climbed a Himalayan mountain without training in Nepal, and wa “Wherever you go, whatever you do, just . . . don’t do anything stupid.” —My MotherDuring her yearlong adventure backpacking from South Africa to Singapore, S. Bedford definitely did a few things her mother might classify as \"stupid.\" She swam with great white sharks in South Africa, ran from lions in Zimbabwe, climbed a Himalayan mountain without training in Nepal, and watched as her friend was attacked by a monkey in Indonesia.But interspersed in those slightly more crazy moments, Sue Bedfored and her friend \"Sara the Stoic\" experienced the sights, sounds, life, and culture of fifteen countries. Joined along the way by a few friends and their aging fathers here and there, Sue and Sara experience the trip of a lifetime. They fall in love with the world, cultivate an appreciation for home, and discover who, or what, they want to become.It's Only the Himalayas is the incredibly funny, sometimes outlandish, always entertaining confession of a young backpacker that will inspire you to take your own adventure. ...more\n",
      "12 --> Product Information\n",
      "13 --> UPCa22124811bfa8350\n",
      "14 --> Product TypeBooks\n",
      "15 --> Price (excl. tax)£45.17\n",
      "16 --> Price (incl. tax)£45.17\n",
      "17 --> Tax£0.00\n",
      "18 --> Availability\n",
      "19 --> In stock (19 available)\n",
      "20 --> Number of reviews\n",
      "21 --> 0\n",
      "22 --> Products you recently viewed\n",
      "23 --> Libertarianism for Beginners\n",
      "24 --> £51.33\n",
      "25 --> In stock\n",
      "26 --> Add to basket\n",
      "27 --> Mesaerion: The Best Science ...\n",
      "28 --> £37.59\n",
      "29 --> In stock\n",
      "30 --> Add to basket\n",
      "31 --> Olio\n",
      "32 --> £23.88\n",
      "33 --> In stock\n",
      "34 --> Add to basket\n",
      "35 --> Our Band Could Be ...\n",
      "36 --> £57.25\n",
      "37 --> In stock\n",
      "38 --> Add to basket\n",
      "39 --> Rip it Up and ...\n",
      "40 --> £35.02\n",
      "41 --> In stock\n",
      "42 --> Add to basket\n",
      "43 --> Scott Pilgrim's Precious Little ...\n",
      "44 --> £52.29\n",
      "45 --> In stock\n",
      "46 --> Add to basket\n"
     ]
    }
   ],
   "source": [
    "format_str =(\n",
    "    _html_code\n",
    "    .get_text()\n",
    "    .strip()\n",
    "    .split('\\n')\n",
    ")\n",
    "temp_list= [item.strip() for item in format_str if item.strip() != '']\n",
    "\n",
    "for count,i in enumerate(temp_list):\n",
    "    print(count,'-->',i)\n"
   ],
   "metadata": {
    "collapsed": false,
    "ExecuteTime": {
     "end_time": "2023-08-10T02:15:22.016693900Z",
     "start_time": "2023-08-10T02:15:21.994069900Z"
    }
   },
   "id": "8e4d8e3e4f503403"
  },
  {
   "cell_type": "code",
   "execution_count": 49,
   "outputs": [],
   "source": [
    "book_category = temp_list[4]\n",
    "title = temp_list[6]\n",
    "price = temp_list[7]\n",
    "stock = temp_list[8]\n",
    "description = temp_list[11]\n",
    "upc = temp_list[13]\n",
    "product_type = temp_list[14]\n",
    "no_tax_price = temp_list[15]\n",
    "tax_price= temp_list[16]\n",
    "total_tax= temp_list[17]\n",
    "availability =[19]"
   ],
   "metadata": {
    "collapsed": false,
    "ExecuteTime": {
     "end_time": "2023-08-10T02:23:10.297191500Z",
     "start_time": "2023-08-10T02:23:10.269091300Z"
    }
   },
   "id": "287e4920882df9d1"
  },
  {
   "cell_type": "code",
   "execution_count": 97,
   "outputs": [
    {
     "name": "stdout",
     "output_type": "stream",
     "text": [
      "It's Only the Himalayas \n",
      " £45.17 \n",
      " In stock (19 available) \n",
      " “Wherever you go, whatever you do, just . . . don’t do anything stupid.” —My MotherDuring her yearlong adventure backpacking from South Africa to Singapore, S. Bedford definitely did a few things her mother might classify as \"stupid.\" She swam with great white sharks in South Africa, ran from lions in Zimbabwe, climbed a Himalayan mountain without training in Nepal, and wa “Wherever you go, whatever you do, just . . . don’t do anything stupid.” —My MotherDuring her yearlong adventure backpacking from South Africa to Singapore, S. Bedford definitely did a few things her mother might classify as \"stupid.\" She swam with great white sharks in South Africa, ran from lions in Zimbabwe, climbed a Himalayan mountain without training in Nepal, and watched as her friend was attacked by a monkey in Indonesia.But interspersed in those slightly more crazy moments, Sue Bedfored and her friend \"Sara the Stoic\" experienced the sights, sounds, life, and culture of fifteen countries. Joined along the way by a few friends and their aging fathers here and there, Sue and Sara experience the trip of a lifetime. They fall in love with the world, cultivate an appreciation for home, and discover who, or what, they want to become.It's Only the Himalayas is the incredibly funny, sometimes outlandish, always entertaining confession of a young backpacker that will inspire you to take your own adventure. ...more \n",
      " UPCa22124811bfa8350 \n",
      " Product TypeBooks \n",
      " Price (excl. tax)£45.17 \n",
      " Price (incl. tax)£45.17 \n",
      " Tax£0.00 \n",
      " In stock (19 available)\n"
     ]
    }
   ],
   "source": [
    "print(\n",
    "    title,\n",
    "    '\\n',\n",
    "    price,\n",
    "    '\\n',\n",
    "    stock,\n",
    "    '\\n',\n",
    "    description,\n",
    "    '\\n',\n",
    "    upc,\n",
    "    '\\n',\n",
    "    product_type,\n",
    "    '\\n',\n",
    "    no_tax_price,\n",
    "    '\\n',\n",
    "    tax_price,\n",
    "    '\\n',\n",
    "    total_tax,\n",
    "    '\\n',\n",
    "    availability\n",
    ")"
   ],
   "metadata": {
    "collapsed": false,
    "ExecuteTime": {
     "end_time": "2023-08-10T03:18:24.715450600Z",
     "start_time": "2023-08-10T03:18:24.661780500Z"
    }
   },
   "id": "5b180523e259dfc2"
  },
  {
   "cell_type": "code",
   "execution_count": 161,
   "outputs": [],
   "source": [
    "def scrap_star_rating(html_code):\n",
    "    '''\n",
    "   return the star rating\n",
    "   of the book\n",
    "    '''\n",
    "    formated_rating= {\n",
    "        'star-rating one':'1',\n",
    "        'star-rating two':'2',\n",
    "        'star-rating three':'3',\n",
    "        'star-rating four':'4',\n",
    "        'star-rating five':'5'\n",
    "    }\n",
    "    _star_rating = (\n",
    "        str(\n",
    "            html_code\n",
    "            .find_all('p')\n",
    "        )\n",
    "        .split('\\n')[5] #step to filter the needed 'P' tag\n",
    "        .split('\"')[1] #steo to get the start rating\n",
    "        .lower()\n",
    "    )\n",
    "\n",
    "    return formated_rating[_star_rating]"
   ],
   "metadata": {
    "collapsed": false,
    "ExecuteTime": {
     "end_time": "2023-08-10T03:54:30.210059600Z",
     "start_time": "2023-08-10T03:54:30.082958200Z"
    }
   },
   "id": "21fa8f45b2678b8"
  },
  {
   "cell_type": "code",
   "execution_count": 119,
   "outputs": [
    {
     "name": "stdout",
     "output_type": "stream",
     "text": [
      "[<p class=\"price_color\">£45.17</p>, <p class=\"instock availability\">\n",
      "<i class=\"icon-ok\"></i>\n",
      "    \n",
      "        In stock (19 available)\n",
      "    \n",
      "</p>, <p class=\"star-rating Two\">\n",
      "<i class=\"icon-star\"></i>\n",
      "<i class=\"icon-star\"></i>\n",
      "<i class=\"icon-star\"></i>\n",
      "<i class=\"icon-star\"></i>\n",
      "<i class=\"icon-star\"></i>\n",
      "<!-- <small><a href=\"/catalogue/its-only-the-himalayas_981/reviews/\">\n",
      "        \n",
      "                \n",
      "                    0 customer reviews\n",
      "                \n",
      "        </a></small>\n",
      "         --> \n",
      "\n",
      "\n",
      "<!-- \n",
      "    <a id=\"write_review\" href=\"/catalogue/its-only-the-himalayas_981/reviews/add/#addreview\" class=\"btn btn-success btn-sm\">\n",
      "        Write a review\n",
      "    </a>\n",
      "\n",
      " --></p>, <p>“Wherever you go, whatever you do, just . . . don’t do anything stupid.” —My MotherDuring her yearlong adventure backpacking from South Africa to Singapore, S. Bedford definitely did a few things her mother might classify as \"stupid.\" She swam with great white sharks in South Africa, ran from lions in Zimbabwe, climbed a Himalayan mountain without training in Nepal, and wa “Wherever you go, whatever you do, just . . . don’t do anything stupid.” —My MotherDuring her yearlong adventure backpacking from South Africa to Singapore, S. Bedford definitely did a few things her mother might classify as \"stupid.\" She swam with great white sharks in South Africa, ran from lions in Zimbabwe, climbed a Himalayan mountain without training in Nepal, and watched as her friend was attacked by a monkey in Indonesia.But interspersed in those slightly more crazy moments, Sue Bedfored and her friend \"Sara the Stoic\" experienced the sights, sounds, life, and culture of fifteen countries. Joined along the way by a few friends and their aging fathers here and there, Sue and Sara experience the trip of a lifetime. They fall in love with the world, cultivate an appreciation for home, and discover who, or what, they want to become.It's Only the Himalayas is the incredibly funny, sometimes outlandish, always entertaining confession of a young backpacker that will inspire you to take your own adventure. ...more</p>, <p class=\"star-rating Two\">\n",
      "<i class=\"icon-star\"></i>\n",
      "<i class=\"icon-star\"></i>\n",
      "<i class=\"icon-star\"></i>\n",
      "<i class=\"icon-star\"></i>\n",
      "<i class=\"icon-star\"></i>\n",
      "</p>, <p class=\"price_color\">£51.33</p>, <p class=\"instock availability\">\n",
      "<i class=\"icon-ok\"></i>\n",
      "    \n",
      "        In stock\n",
      "    \n",
      "</p>, <p class=\"star-rating One\">\n",
      "<i class=\"icon-star\"></i>\n",
      "<i class=\"icon-star\"></i>\n",
      "<i class=\"icon-star\"></i>\n",
      "<i class=\"icon-star\"></i>\n",
      "<i class=\"icon-star\"></i>\n",
      "</p>, <p class=\"price_color\">£37.59</p>, <p class=\"instock availability\">\n",
      "<i class=\"icon-ok\"></i>\n",
      "    \n",
      "        In stock\n",
      "    \n",
      "</p>, <p class=\"star-rating One\">\n",
      "<i class=\"icon-star\"></i>\n",
      "<i class=\"icon-star\"></i>\n",
      "<i class=\"icon-star\"></i>\n",
      "<i class=\"icon-star\"></i>\n",
      "<i class=\"icon-star\"></i>\n",
      "</p>, <p class=\"price_color\">£23.88</p>, <p class=\"instock availability\">\n",
      "<i class=\"icon-ok\"></i>\n",
      "    \n",
      "        In stock\n",
      "    \n",
      "</p>, <p class=\"star-rating Three\">\n",
      "<i class=\"icon-star\"></i>\n",
      "<i class=\"icon-star\"></i>\n",
      "<i class=\"icon-star\"></i>\n",
      "<i class=\"icon-star\"></i>\n",
      "<i class=\"icon-star\"></i>\n",
      "</p>, <p class=\"price_color\">£57.25</p>, <p class=\"instock availability\">\n",
      "<i class=\"icon-ok\"></i>\n",
      "    \n",
      "        In stock\n",
      "    \n",
      "</p>, <p class=\"star-rating Five\">\n",
      "<i class=\"icon-star\"></i>\n",
      "<i class=\"icon-star\"></i>\n",
      "<i class=\"icon-star\"></i>\n",
      "<i class=\"icon-star\"></i>\n",
      "<i class=\"icon-star\"></i>\n",
      "</p>, <p class=\"price_color\">£35.02</p>, <p class=\"instock availability\">\n",
      "<i class=\"icon-ok\"></i>\n",
      "    \n",
      "        In stock\n",
      "    \n",
      "</p>, <p class=\"star-rating Five\">\n",
      "<i class=\"icon-star\"></i>\n",
      "<i class=\"icon-star\"></i>\n",
      "<i class=\"icon-star\"></i>\n",
      "<i class=\"icon-star\"></i>\n",
      "<i class=\"icon-star\"></i>\n",
      "</p>, <p class=\"price_color\">£52.29</p>, <p class=\"instock availability\">\n",
      "<i class=\"icon-ok\"></i>\n",
      "    \n",
      "        In stock\n",
      "    \n",
      "</p>]\n"
     ]
    }
   ],
   "source": [
    "print()"
   ],
   "metadata": {
    "collapsed": false,
    "ExecuteTime": {
     "end_time": "2023-08-10T03:38:42.742984800Z",
     "start_time": "2023-08-10T03:38:42.710160400Z"
    }
   },
   "id": "7dedc273692e7bb4"
  },
  {
   "cell_type": "code",
   "execution_count": 126,
   "outputs": [
    {
     "name": "stdout",
     "output_type": "stream",
     "text": [
      "1\n"
     ]
    }
   ],
   "source": [
    "formated_rating= {\n",
    "    'star-rating one':'1',\n",
    "    'star-rating two':'2',\n",
    "    'star-rating three':'3',\n",
    "    'star-rating four':'4',\n",
    "    'star-rating five':'5'\n",
    "}\n",
    "\n",
    "\n",
    "print(formated_rating['star-rating one'])"
   ],
   "metadata": {
    "collapsed": false,
    "ExecuteTime": {
     "end_time": "2023-08-10T03:48:26.047427700Z",
     "start_time": "2023-08-10T03:48:26.039689400Z"
    }
   },
   "id": "252520bbea84fe2c"
  }
 ],
 "metadata": {
  "kernelspec": {
   "display_name": "Python 3",
   "language": "python",
   "name": "python3"
  },
  "language_info": {
   "codemirror_mode": {
    "name": "ipython",
    "version": 2
   },
   "file_extension": ".py",
   "mimetype": "text/x-python",
   "name": "python",
   "nbconvert_exporter": "python",
   "pygments_lexer": "ipython2",
   "version": "2.7.6"
  }
 },
 "nbformat": 4,
 "nbformat_minor": 5
}
