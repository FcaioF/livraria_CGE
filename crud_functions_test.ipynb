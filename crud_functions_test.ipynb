{
 "cells": [
  {
   "cell_type": "markdown",
   "source": [
    "imports"
   ],
   "metadata": {
    "collapsed": false
   },
   "id": "24d697f91d41684"
  },
  {
   "cell_type": "code",
   "execution_count": 3,
   "outputs": [],
   "source": [
    "from web_scraping_tools.scrap_tools import *\n",
    "from web_scraping_tools.postgree_tools import *\n",
    "import time"
   ],
   "metadata": {
    "collapsed": false,
    "ExecuteTime": {
     "end_time": "2023-09-09T16:52:29.245051500Z",
     "start_time": "2023-09-09T16:52:29.067767800Z"
    }
   },
   "id": "de68bdc2a068b8f8"
  },
  {
   "cell_type": "markdown",
   "source": [
    "main code\n"
   ],
   "metadata": {
    "collapsed": false
   },
   "id": "71a43189ca2b9aaf"
  },
  {
   "cell_type": "code",
   "execution_count": 4,
   "outputs": [
    {
     "name": "stdout",
     "output_type": "stream",
     "text": [
      "requesting.. --> http://books.toscrape.com/index.html\n",
      "requesting.. --> http://books.toscrape.com/catalogue/category/books/mystery_3/index.html\n",
      "requesting.. --> https://books.toscrape.com/catalogue/sharp-objects_997/index.html\n",
      "requesting.. --> https://books.toscrape.com/catalogue/in-a-dark-dark-wood_963/index.html\n",
      "requesting.. --> https://books.toscrape.com/catalogue/the-past-never-ends_942/index.html\n",
      "requesting.. --> https://books.toscrape.com/catalogue/a-murder-in-time_877/index.html\n",
      "requesting.. --> https://books.toscrape.com/catalogue/the-murder-of-roger-ackroyd-hercule-poirot-4_852/index.html\n",
      "requesting.. --> https://books.toscrape.com/catalogue/the-last-mile-amos-decker-2_754/index.html\n",
      "requesting.. --> https://books.toscrape.com/catalogue/that-darkness-gardiner-and-renner-1_743/index.html\n",
      "requesting.. --> https://books.toscrape.com/catalogue/tastes-like-fear-di-marnie-rome-3_742/index.html\n",
      "requesting.. --> https://books.toscrape.com/catalogue/a-time-of-torment-charlie-parker-14_657/index.html\n",
      "requesting.. --> https://books.toscrape.com/catalogue/a-study-in-scarlet-sherlock-holmes-1_656/index.html\n",
      "requesting.. --> https://books.toscrape.com/catalogue/poisonous-max-revere-novels-3_627/index.html\n",
      "requesting.. --> https://books.toscrape.com/catalogue/murder-at-the-42nd-street-library-raymond-ambler-1_624/index.html\n",
      "requesting.. --> https://books.toscrape.com/catalogue/most-wanted_623/index.html\n",
      "requesting.. --> https://books.toscrape.com/catalogue/hide-away-eve-duncan-20_620/index.html\n",
      "requesting.. --> https://books.toscrape.com/catalogue/boar-island-anna-pigeon-19_613/index.html\n",
      "requesting.. --> https://books.toscrape.com/catalogue/the-widow_609/index.html\n",
      "requesting.. --> https://books.toscrape.com/catalogue/playing-with-fire_602/index.html\n",
      "requesting.. --> https://books.toscrape.com/catalogue/what-happened-on-beale-street-secrets-of-the-south-mysteries-2_506/index.html\n",
      "requesting.. --> https://books.toscrape.com/catalogue/the-bachelor-girls-guide-to-murder-herringford-and-watts-mysteries-1_491/index.html\n",
      "requesting.. --> https://books.toscrape.com/catalogue/delivering-the-truth-quaker-midwife-mystery-1_464/index.html\n",
      "{'process_date': '2023-09-09 13:52:30.737325', 'book_category': 'Mystery', 'book_title': 'Sharp Objects', 'book_price': '47.82', 'book_description': 'WICKED above her hipbone GIRL across her heart Words are like a road map to reporter Camille Preaker’s troubled past Fresh from a brief stay at a psych hospital Camille’s first assignment from the second-rate daily paper where she works brings her reluctantly back to her hometown to cover the murders of two preteen girls NASTY on her kneecap BABYDOLL on her leg Since WICKED above her hipbone GIRL across her heart Words are like a road map to reporter Camille Preaker’s troubled past Fresh from a brief stay at a psych hospital Camille’s first assignment from the second-rate daily paper where she works brings her reluctantly back to her hometown to cover the murders of two preteen girls NASTY on her kneecap BABYDOLL on her leg Since she left town eight years ago Camille has hardly spoken to her neurotic hypochondriac mother or to the half-sister she barely knows: a beautiful thirteen-year-old with an eerie grip on the town Now installed again in her family’s Victorian mansion Camille is haunted by the childhood tragedy she has spent her whole life trying to cut from her memory HARMFUL on her wrist WHORE on her ankle As Camille works to uncover the truth about these violent crimes she finds herself identifying with the young victimsa bit too strongly Clues keep leading to dead ends forcing Camille to unravel the psychological puzzle of her own past to get at the story Dogged by her own demons Camille will have to confront what happened to her years before if she wants to survive this homecomingWith its taut crafted writing Sharp Objects is addictive haunting and unforgettable more', 'upc_number': 'e00eb4fd7b871a48', 'product_type': 'books', 'no_tax_price': '47.82', 'w_tax_price': '47.82', 'total_available': '20', 'book_star': '4'}\n",
      "requesting.. --> http://books.toscrape.com/catalogue/category/books/historical-fiction_4/index.html\n",
      "requesting.. --> https://books.toscrape.com/catalogue/tipping-the-velvet_999/index.html\n",
      "requesting.. --> https://books.toscrape.com/catalogue/forever-and-forever-the-courtship-of-henry-longfellow-and-fanny-appleton_894/index.html\n",
      "requesting.. --> https://books.toscrape.com/catalogue/a-flight-of-arrows-the-pathfinders-2_876/index.html\n",
      "requesting.. --> https://books.toscrape.com/catalogue/the-house-by-the-lake_846/index.html\n",
      "requesting.. --> https://books.toscrape.com/catalogue/mrs-houdini_821/index.html\n",
      "requesting.. --> https://books.toscrape.com/catalogue/the-marriage-of-opposites_759/index.html\n",
      "requesting.. --> https://books.toscrape.com/catalogue/glory-over-everything-beyond-the-kitchen-house_696/index.html\n",
      "requesting.. --> https://books.toscrape.com/catalogue/love-lies-and-spies_622/index.html\n"
     ]
    },
    {
     "ename": "KeyboardInterrupt",
     "evalue": "",
     "output_type": "error",
     "traceback": [
      "\u001B[1;31m---------------------------------------------------------------------------\u001B[0m",
      "\u001B[1;31mKeyboardInterrupt\u001B[0m                         Traceback (most recent call last)",
      "Cell \u001B[1;32mIn[4], line 7\u001B[0m\n\u001B[0;32m      4\u001B[0m \u001B[38;5;66;03m# postgree_connection=postgree_connect()/\u001B[39;00m\n\u001B[0;32m      6\u001B[0m \u001B[38;5;28;01mfor\u001B[39;00m book_category \u001B[38;5;129;01min\u001B[39;00m books_category:\n\u001B[1;32m----> 7\u001B[0m     _temp_data\u001B[38;5;241m=\u001B[39m scrap_books_data(book_category)\n\u001B[0;32m      8\u001B[0m     \u001B[38;5;28;01mfor\u001B[39;00m data \u001B[38;5;129;01min\u001B[39;00m _temp_data:\n\u001B[0;32m      9\u001B[0m         \u001B[38;5;28mprint\u001B[39m(data)\n",
      "File \u001B[1;32mD:\\caiof\\Documents\\GIT_Repos\\web_scraping-books\\web_scraping_tools\\scrap_tools.py:194\u001B[0m, in \u001B[0;36mscrap_books_data\u001B[1;34m(category)\u001B[0m\n\u001B[0;32m    192\u001B[0m     page_links \u001B[38;5;241m=\u001B[39m get_page_links(book)\n\u001B[0;32m    193\u001B[0m     \u001B[38;5;28;01mfor\u001B[39;00m i \u001B[38;5;129;01min\u001B[39;00m page_links:\n\u001B[1;32m--> 194\u001B[0m         _book_data\u001B[38;5;241m.\u001B[39mappend(scrap_books_attribute(i))\n\u001B[0;32m    197\u001B[0m \u001B[38;5;28;01mreturn\u001B[39;00m _book_data\n",
      "File \u001B[1;32mD:\\caiof\\Documents\\GIT_Repos\\web_scraping-books\\web_scraping_tools\\scrap_tools.py:140\u001B[0m, in \u001B[0;36mscrap_books_attribute\u001B[1;34m(base_link)\u001B[0m\n\u001B[0;32m    134\u001B[0m catalog_path\u001B[38;5;241m=\u001B[39m \u001B[38;5;124m'\u001B[39m\u001B[38;5;124mhttps://books.toscrape.com/catalogue/\u001B[39m\u001B[38;5;124m'\u001B[39m\n\u001B[0;32m    136\u001B[0m \u001B[38;5;250m\u001B[39m\u001B[38;5;124;03m\"\"\"\u001B[39;00m\n\u001B[0;32m    137\u001B[0m \u001B[38;5;124;03mget html code from the requested page\u001B[39;00m\n\u001B[0;32m    138\u001B[0m \u001B[38;5;124;03m\"\"\"\u001B[39;00m\n\u001B[0;32m    139\u001B[0m _html_code_filtered\u001B[38;5;241m=\u001B[39m (\n\u001B[1;32m--> 140\u001B[0m     scrap_site_html(catalog_path\u001B[38;5;241m+\u001B[39mbase_link)\n\u001B[0;32m    141\u001B[0m )\n\u001B[0;32m    143\u001B[0m \u001B[38;5;250m\u001B[39m\u001B[38;5;124;03m\"\"\"\u001B[39;00m\n\u001B[0;32m    144\u001B[0m \u001B[38;5;124;03mfilter only texts from the page\u001B[39;00m\n\u001B[0;32m    145\u001B[0m \u001B[38;5;124;03m\"\"\"\u001B[39;00m\n\u001B[0;32m    146\u001B[0m _formated_str\u001B[38;5;241m=\u001B[39m (\n\u001B[0;32m    147\u001B[0m     _html_code_filtered\n\u001B[0;32m    148\u001B[0m     \u001B[38;5;241m.\u001B[39mget_text()\n\u001B[1;32m   (...)\u001B[0m\n\u001B[0;32m    151\u001B[0m \n\u001B[0;32m    152\u001B[0m )\n",
      "File \u001B[1;32mD:\\caiof\\Documents\\GIT_Repos\\web_scraping-books\\web_scraping_tools\\scrap_tools.py:54\u001B[0m, in \u001B[0;36mscrap_site_html\u001B[1;34m(site_url)\u001B[0m\n\u001B[0;32m     49\u001B[0m \u001B[38;5;250m\u001B[39m\u001B[38;5;124;03m'''\u001B[39;00m\n\u001B[0;32m     50\u001B[0m \u001B[38;5;124;03mreceive the site url as parameter\u001B[39;00m\n\u001B[0;32m     51\u001B[0m \u001B[38;5;124;03mand request the html code\u001B[39;00m\n\u001B[0;32m     52\u001B[0m \u001B[38;5;124;03m'''\u001B[39;00m\n\u001B[0;32m     53\u001B[0m \u001B[38;5;28mprint\u001B[39m(\u001B[38;5;124m'\u001B[39m\u001B[38;5;124mrequesting.. -->\u001B[39m\u001B[38;5;124m'\u001B[39m,site_url)\n\u001B[1;32m---> 54\u001B[0m _siteResponse \u001B[38;5;241m=\u001B[39m requests\u001B[38;5;241m.\u001B[39mget(site_url)\n\u001B[0;32m     55\u001B[0m _soup \u001B[38;5;241m=\u001B[39m BeautifulSoup(_siteResponse\u001B[38;5;241m.\u001B[39mcontent,\u001B[38;5;124m'\u001B[39m\u001B[38;5;124mhtml.parser\u001B[39m\u001B[38;5;124m'\u001B[39m)\n\u001B[0;32m     57\u001B[0m \u001B[38;5;28;01mreturn\u001B[39;00m _soup\n",
      "File \u001B[1;32mC:\\Programs_caio\\anaconda3\\Lib\\site-packages\\requests\\api.py:73\u001B[0m, in \u001B[0;36mget\u001B[1;34m(url, params, **kwargs)\u001B[0m\n\u001B[0;32m     62\u001B[0m \u001B[38;5;28;01mdef\u001B[39;00m \u001B[38;5;21mget\u001B[39m(url, params\u001B[38;5;241m=\u001B[39m\u001B[38;5;28;01mNone\u001B[39;00m, \u001B[38;5;241m*\u001B[39m\u001B[38;5;241m*\u001B[39mkwargs):\n\u001B[0;32m     63\u001B[0m \u001B[38;5;250m    \u001B[39m\u001B[38;5;124mr\u001B[39m\u001B[38;5;124;03m\"\"\"Sends a GET request.\u001B[39;00m\n\u001B[0;32m     64\u001B[0m \n\u001B[0;32m     65\u001B[0m \u001B[38;5;124;03m    :param url: URL for the new :class:`Request` object.\u001B[39;00m\n\u001B[1;32m   (...)\u001B[0m\n\u001B[0;32m     70\u001B[0m \u001B[38;5;124;03m    :rtype: requests.Response\u001B[39;00m\n\u001B[0;32m     71\u001B[0m \u001B[38;5;124;03m    \"\"\"\u001B[39;00m\n\u001B[1;32m---> 73\u001B[0m     \u001B[38;5;28;01mreturn\u001B[39;00m request(\u001B[38;5;124m\"\u001B[39m\u001B[38;5;124mget\u001B[39m\u001B[38;5;124m\"\u001B[39m, url, params\u001B[38;5;241m=\u001B[39mparams, \u001B[38;5;241m*\u001B[39m\u001B[38;5;241m*\u001B[39mkwargs)\n",
      "File \u001B[1;32mC:\\Programs_caio\\anaconda3\\Lib\\site-packages\\requests\\api.py:59\u001B[0m, in \u001B[0;36mrequest\u001B[1;34m(method, url, **kwargs)\u001B[0m\n\u001B[0;32m     55\u001B[0m \u001B[38;5;66;03m# By using the 'with' statement we are sure the session is closed, thus we\u001B[39;00m\n\u001B[0;32m     56\u001B[0m \u001B[38;5;66;03m# avoid leaving sockets open which can trigger a ResourceWarning in some\u001B[39;00m\n\u001B[0;32m     57\u001B[0m \u001B[38;5;66;03m# cases, and look like a memory leak in others.\u001B[39;00m\n\u001B[0;32m     58\u001B[0m \u001B[38;5;28;01mwith\u001B[39;00m sessions\u001B[38;5;241m.\u001B[39mSession() \u001B[38;5;28;01mas\u001B[39;00m session:\n\u001B[1;32m---> 59\u001B[0m     \u001B[38;5;28;01mreturn\u001B[39;00m session\u001B[38;5;241m.\u001B[39mrequest(method\u001B[38;5;241m=\u001B[39mmethod, url\u001B[38;5;241m=\u001B[39murl, \u001B[38;5;241m*\u001B[39m\u001B[38;5;241m*\u001B[39mkwargs)\n",
      "File \u001B[1;32mC:\\Programs_caio\\anaconda3\\Lib\\site-packages\\requests\\sessions.py:589\u001B[0m, in \u001B[0;36mSession.request\u001B[1;34m(self, method, url, params, data, headers, cookies, files, auth, timeout, allow_redirects, proxies, hooks, stream, verify, cert, json)\u001B[0m\n\u001B[0;32m    584\u001B[0m send_kwargs \u001B[38;5;241m=\u001B[39m {\n\u001B[0;32m    585\u001B[0m     \u001B[38;5;124m\"\u001B[39m\u001B[38;5;124mtimeout\u001B[39m\u001B[38;5;124m\"\u001B[39m: timeout,\n\u001B[0;32m    586\u001B[0m     \u001B[38;5;124m\"\u001B[39m\u001B[38;5;124mallow_redirects\u001B[39m\u001B[38;5;124m\"\u001B[39m: allow_redirects,\n\u001B[0;32m    587\u001B[0m }\n\u001B[0;32m    588\u001B[0m send_kwargs\u001B[38;5;241m.\u001B[39mupdate(settings)\n\u001B[1;32m--> 589\u001B[0m resp \u001B[38;5;241m=\u001B[39m \u001B[38;5;28mself\u001B[39m\u001B[38;5;241m.\u001B[39msend(prep, \u001B[38;5;241m*\u001B[39m\u001B[38;5;241m*\u001B[39msend_kwargs)\n\u001B[0;32m    591\u001B[0m \u001B[38;5;28;01mreturn\u001B[39;00m resp\n",
      "File \u001B[1;32mC:\\Programs_caio\\anaconda3\\Lib\\site-packages\\requests\\sessions.py:703\u001B[0m, in \u001B[0;36mSession.send\u001B[1;34m(self, request, **kwargs)\u001B[0m\n\u001B[0;32m    700\u001B[0m start \u001B[38;5;241m=\u001B[39m preferred_clock()\n\u001B[0;32m    702\u001B[0m \u001B[38;5;66;03m# Send the request\u001B[39;00m\n\u001B[1;32m--> 703\u001B[0m r \u001B[38;5;241m=\u001B[39m adapter\u001B[38;5;241m.\u001B[39msend(request, \u001B[38;5;241m*\u001B[39m\u001B[38;5;241m*\u001B[39mkwargs)\n\u001B[0;32m    705\u001B[0m \u001B[38;5;66;03m# Total elapsed time of the request (approximately)\u001B[39;00m\n\u001B[0;32m    706\u001B[0m elapsed \u001B[38;5;241m=\u001B[39m preferred_clock() \u001B[38;5;241m-\u001B[39m start\n",
      "File \u001B[1;32mC:\\Programs_caio\\anaconda3\\Lib\\site-packages\\requests\\adapters.py:486\u001B[0m, in \u001B[0;36mHTTPAdapter.send\u001B[1;34m(self, request, stream, timeout, verify, cert, proxies)\u001B[0m\n\u001B[0;32m    483\u001B[0m     timeout \u001B[38;5;241m=\u001B[39m TimeoutSauce(connect\u001B[38;5;241m=\u001B[39mtimeout, read\u001B[38;5;241m=\u001B[39mtimeout)\n\u001B[0;32m    485\u001B[0m \u001B[38;5;28;01mtry\u001B[39;00m:\n\u001B[1;32m--> 486\u001B[0m     resp \u001B[38;5;241m=\u001B[39m conn\u001B[38;5;241m.\u001B[39murlopen(\n\u001B[0;32m    487\u001B[0m         method\u001B[38;5;241m=\u001B[39mrequest\u001B[38;5;241m.\u001B[39mmethod,\n\u001B[0;32m    488\u001B[0m         url\u001B[38;5;241m=\u001B[39murl,\n\u001B[0;32m    489\u001B[0m         body\u001B[38;5;241m=\u001B[39mrequest\u001B[38;5;241m.\u001B[39mbody,\n\u001B[0;32m    490\u001B[0m         headers\u001B[38;5;241m=\u001B[39mrequest\u001B[38;5;241m.\u001B[39mheaders,\n\u001B[0;32m    491\u001B[0m         redirect\u001B[38;5;241m=\u001B[39m\u001B[38;5;28;01mFalse\u001B[39;00m,\n\u001B[0;32m    492\u001B[0m         assert_same_host\u001B[38;5;241m=\u001B[39m\u001B[38;5;28;01mFalse\u001B[39;00m,\n\u001B[0;32m    493\u001B[0m         preload_content\u001B[38;5;241m=\u001B[39m\u001B[38;5;28;01mFalse\u001B[39;00m,\n\u001B[0;32m    494\u001B[0m         decode_content\u001B[38;5;241m=\u001B[39m\u001B[38;5;28;01mFalse\u001B[39;00m,\n\u001B[0;32m    495\u001B[0m         retries\u001B[38;5;241m=\u001B[39m\u001B[38;5;28mself\u001B[39m\u001B[38;5;241m.\u001B[39mmax_retries,\n\u001B[0;32m    496\u001B[0m         timeout\u001B[38;5;241m=\u001B[39mtimeout,\n\u001B[0;32m    497\u001B[0m         chunked\u001B[38;5;241m=\u001B[39mchunked,\n\u001B[0;32m    498\u001B[0m     )\n\u001B[0;32m    500\u001B[0m \u001B[38;5;28;01mexcept\u001B[39;00m (ProtocolError, \u001B[38;5;167;01mOSError\u001B[39;00m) \u001B[38;5;28;01mas\u001B[39;00m err:\n\u001B[0;32m    501\u001B[0m     \u001B[38;5;28;01mraise\u001B[39;00m \u001B[38;5;167;01mConnectionError\u001B[39;00m(err, request\u001B[38;5;241m=\u001B[39mrequest)\n",
      "File \u001B[1;32mC:\\Programs_caio\\anaconda3\\Lib\\site-packages\\urllib3\\connectionpool.py:714\u001B[0m, in \u001B[0;36mHTTPConnectionPool.urlopen\u001B[1;34m(self, method, url, body, headers, retries, redirect, assert_same_host, timeout, pool_timeout, release_conn, chunked, body_pos, **response_kw)\u001B[0m\n\u001B[0;32m    711\u001B[0m     \u001B[38;5;28mself\u001B[39m\u001B[38;5;241m.\u001B[39m_prepare_proxy(conn)\n\u001B[0;32m    713\u001B[0m \u001B[38;5;66;03m# Make the request on the httplib connection object.\u001B[39;00m\n\u001B[1;32m--> 714\u001B[0m httplib_response \u001B[38;5;241m=\u001B[39m \u001B[38;5;28mself\u001B[39m\u001B[38;5;241m.\u001B[39m_make_request(\n\u001B[0;32m    715\u001B[0m     conn,\n\u001B[0;32m    716\u001B[0m     method,\n\u001B[0;32m    717\u001B[0m     url,\n\u001B[0;32m    718\u001B[0m     timeout\u001B[38;5;241m=\u001B[39mtimeout_obj,\n\u001B[0;32m    719\u001B[0m     body\u001B[38;5;241m=\u001B[39mbody,\n\u001B[0;32m    720\u001B[0m     headers\u001B[38;5;241m=\u001B[39mheaders,\n\u001B[0;32m    721\u001B[0m     chunked\u001B[38;5;241m=\u001B[39mchunked,\n\u001B[0;32m    722\u001B[0m )\n\u001B[0;32m    724\u001B[0m \u001B[38;5;66;03m# If we're going to release the connection in ``finally:``, then\u001B[39;00m\n\u001B[0;32m    725\u001B[0m \u001B[38;5;66;03m# the response doesn't need to know about the connection. Otherwise\u001B[39;00m\n\u001B[0;32m    726\u001B[0m \u001B[38;5;66;03m# it will also try to release it and we'll have a double-release\u001B[39;00m\n\u001B[0;32m    727\u001B[0m \u001B[38;5;66;03m# mess.\u001B[39;00m\n\u001B[0;32m    728\u001B[0m response_conn \u001B[38;5;241m=\u001B[39m conn \u001B[38;5;28;01mif\u001B[39;00m \u001B[38;5;129;01mnot\u001B[39;00m release_conn \u001B[38;5;28;01melse\u001B[39;00m \u001B[38;5;28;01mNone\u001B[39;00m\n",
      "File \u001B[1;32mC:\\Programs_caio\\anaconda3\\Lib\\site-packages\\urllib3\\connectionpool.py:403\u001B[0m, in \u001B[0;36mHTTPConnectionPool._make_request\u001B[1;34m(self, conn, method, url, timeout, chunked, **httplib_request_kw)\u001B[0m\n\u001B[0;32m    401\u001B[0m \u001B[38;5;66;03m# Trigger any extra validation we need to do.\u001B[39;00m\n\u001B[0;32m    402\u001B[0m \u001B[38;5;28;01mtry\u001B[39;00m:\n\u001B[1;32m--> 403\u001B[0m     \u001B[38;5;28mself\u001B[39m\u001B[38;5;241m.\u001B[39m_validate_conn(conn)\n\u001B[0;32m    404\u001B[0m \u001B[38;5;28;01mexcept\u001B[39;00m (SocketTimeout, BaseSSLError) \u001B[38;5;28;01mas\u001B[39;00m e:\n\u001B[0;32m    405\u001B[0m     \u001B[38;5;66;03m# Py2 raises this as a BaseSSLError, Py3 raises it as socket timeout.\u001B[39;00m\n\u001B[0;32m    406\u001B[0m     \u001B[38;5;28mself\u001B[39m\u001B[38;5;241m.\u001B[39m_raise_timeout(err\u001B[38;5;241m=\u001B[39me, url\u001B[38;5;241m=\u001B[39murl, timeout_value\u001B[38;5;241m=\u001B[39mconn\u001B[38;5;241m.\u001B[39mtimeout)\n",
      "File \u001B[1;32mC:\\Programs_caio\\anaconda3\\Lib\\site-packages\\urllib3\\connectionpool.py:1053\u001B[0m, in \u001B[0;36mHTTPSConnectionPool._validate_conn\u001B[1;34m(self, conn)\u001B[0m\n\u001B[0;32m   1051\u001B[0m \u001B[38;5;66;03m# Force connect early to allow us to validate the connection.\u001B[39;00m\n\u001B[0;32m   1052\u001B[0m \u001B[38;5;28;01mif\u001B[39;00m \u001B[38;5;129;01mnot\u001B[39;00m \u001B[38;5;28mgetattr\u001B[39m(conn, \u001B[38;5;124m\"\u001B[39m\u001B[38;5;124msock\u001B[39m\u001B[38;5;124m\"\u001B[39m, \u001B[38;5;28;01mNone\u001B[39;00m):  \u001B[38;5;66;03m# AppEngine might not have  `.sock`\u001B[39;00m\n\u001B[1;32m-> 1053\u001B[0m     conn\u001B[38;5;241m.\u001B[39mconnect()\n\u001B[0;32m   1055\u001B[0m \u001B[38;5;28;01mif\u001B[39;00m \u001B[38;5;129;01mnot\u001B[39;00m conn\u001B[38;5;241m.\u001B[39mis_verified:\n\u001B[0;32m   1056\u001B[0m     warnings\u001B[38;5;241m.\u001B[39mwarn(\n\u001B[0;32m   1057\u001B[0m         (\n\u001B[0;32m   1058\u001B[0m             \u001B[38;5;124m\"\u001B[39m\u001B[38;5;124mUnverified HTTPS request is being made to host \u001B[39m\u001B[38;5;124m'\u001B[39m\u001B[38;5;132;01m%s\u001B[39;00m\u001B[38;5;124m'\u001B[39m\u001B[38;5;124m. \u001B[39m\u001B[38;5;124m\"\u001B[39m\n\u001B[1;32m   (...)\u001B[0m\n\u001B[0;32m   1063\u001B[0m         InsecureRequestWarning,\n\u001B[0;32m   1064\u001B[0m     )\n",
      "File \u001B[1;32mC:\\Programs_caio\\anaconda3\\Lib\\site-packages\\urllib3\\connection.py:419\u001B[0m, in \u001B[0;36mHTTPSConnection.connect\u001B[1;34m(self)\u001B[0m\n\u001B[0;32m    410\u001B[0m \u001B[38;5;28;01mif\u001B[39;00m (\n\u001B[0;32m    411\u001B[0m     \u001B[38;5;129;01mnot\u001B[39;00m \u001B[38;5;28mself\u001B[39m\u001B[38;5;241m.\u001B[39mca_certs\n\u001B[0;32m    412\u001B[0m     \u001B[38;5;129;01mand\u001B[39;00m \u001B[38;5;129;01mnot\u001B[39;00m \u001B[38;5;28mself\u001B[39m\u001B[38;5;241m.\u001B[39mca_cert_dir\n\u001B[1;32m   (...)\u001B[0m\n\u001B[0;32m    415\u001B[0m     \u001B[38;5;129;01mand\u001B[39;00m \u001B[38;5;28mhasattr\u001B[39m(context, \u001B[38;5;124m\"\u001B[39m\u001B[38;5;124mload_default_certs\u001B[39m\u001B[38;5;124m\"\u001B[39m)\n\u001B[0;32m    416\u001B[0m ):\n\u001B[0;32m    417\u001B[0m     context\u001B[38;5;241m.\u001B[39mload_default_certs()\n\u001B[1;32m--> 419\u001B[0m \u001B[38;5;28mself\u001B[39m\u001B[38;5;241m.\u001B[39msock \u001B[38;5;241m=\u001B[39m ssl_wrap_socket(\n\u001B[0;32m    420\u001B[0m     sock\u001B[38;5;241m=\u001B[39mconn,\n\u001B[0;32m    421\u001B[0m     keyfile\u001B[38;5;241m=\u001B[39m\u001B[38;5;28mself\u001B[39m\u001B[38;5;241m.\u001B[39mkey_file,\n\u001B[0;32m    422\u001B[0m     certfile\u001B[38;5;241m=\u001B[39m\u001B[38;5;28mself\u001B[39m\u001B[38;5;241m.\u001B[39mcert_file,\n\u001B[0;32m    423\u001B[0m     key_password\u001B[38;5;241m=\u001B[39m\u001B[38;5;28mself\u001B[39m\u001B[38;5;241m.\u001B[39mkey_password,\n\u001B[0;32m    424\u001B[0m     ca_certs\u001B[38;5;241m=\u001B[39m\u001B[38;5;28mself\u001B[39m\u001B[38;5;241m.\u001B[39mca_certs,\n\u001B[0;32m    425\u001B[0m     ca_cert_dir\u001B[38;5;241m=\u001B[39m\u001B[38;5;28mself\u001B[39m\u001B[38;5;241m.\u001B[39mca_cert_dir,\n\u001B[0;32m    426\u001B[0m     ca_cert_data\u001B[38;5;241m=\u001B[39m\u001B[38;5;28mself\u001B[39m\u001B[38;5;241m.\u001B[39mca_cert_data,\n\u001B[0;32m    427\u001B[0m     server_hostname\u001B[38;5;241m=\u001B[39mserver_hostname,\n\u001B[0;32m    428\u001B[0m     ssl_context\u001B[38;5;241m=\u001B[39mcontext,\n\u001B[0;32m    429\u001B[0m     tls_in_tls\u001B[38;5;241m=\u001B[39mtls_in_tls,\n\u001B[0;32m    430\u001B[0m )\n\u001B[0;32m    432\u001B[0m \u001B[38;5;66;03m# If we're using all defaults and the connection\u001B[39;00m\n\u001B[0;32m    433\u001B[0m \u001B[38;5;66;03m# is TLSv1 or TLSv1.1 we throw a DeprecationWarning\u001B[39;00m\n\u001B[0;32m    434\u001B[0m \u001B[38;5;66;03m# for the host.\u001B[39;00m\n\u001B[0;32m    435\u001B[0m \u001B[38;5;28;01mif\u001B[39;00m (\n\u001B[0;32m    436\u001B[0m     default_ssl_context\n\u001B[0;32m    437\u001B[0m     \u001B[38;5;129;01mand\u001B[39;00m \u001B[38;5;28mself\u001B[39m\u001B[38;5;241m.\u001B[39mssl_version \u001B[38;5;129;01mis\u001B[39;00m \u001B[38;5;28;01mNone\u001B[39;00m\n\u001B[0;32m    438\u001B[0m     \u001B[38;5;129;01mand\u001B[39;00m \u001B[38;5;28mhasattr\u001B[39m(\u001B[38;5;28mself\u001B[39m\u001B[38;5;241m.\u001B[39msock, \u001B[38;5;124m\"\u001B[39m\u001B[38;5;124mversion\u001B[39m\u001B[38;5;124m\"\u001B[39m)\n\u001B[0;32m    439\u001B[0m     \u001B[38;5;129;01mand\u001B[39;00m \u001B[38;5;28mself\u001B[39m\u001B[38;5;241m.\u001B[39msock\u001B[38;5;241m.\u001B[39mversion() \u001B[38;5;129;01min\u001B[39;00m {\u001B[38;5;124m\"\u001B[39m\u001B[38;5;124mTLSv1\u001B[39m\u001B[38;5;124m\"\u001B[39m, \u001B[38;5;124m\"\u001B[39m\u001B[38;5;124mTLSv1.1\u001B[39m\u001B[38;5;124m\"\u001B[39m}\n\u001B[0;32m    440\u001B[0m ):\n",
      "File \u001B[1;32mC:\\Programs_caio\\anaconda3\\Lib\\site-packages\\urllib3\\util\\ssl_.py:449\u001B[0m, in \u001B[0;36mssl_wrap_socket\u001B[1;34m(sock, keyfile, certfile, cert_reqs, ca_certs, server_hostname, ssl_version, ciphers, ssl_context, ca_cert_dir, key_password, ca_cert_data, tls_in_tls)\u001B[0m\n\u001B[0;32m    437\u001B[0m     warnings\u001B[38;5;241m.\u001B[39mwarn(\n\u001B[0;32m    438\u001B[0m         \u001B[38;5;124m\"\u001B[39m\u001B[38;5;124mAn HTTPS request has been made, but the SNI (Server Name \u001B[39m\u001B[38;5;124m\"\u001B[39m\n\u001B[0;32m    439\u001B[0m         \u001B[38;5;124m\"\u001B[39m\u001B[38;5;124mIndication) extension to TLS is not available on this platform. \u001B[39m\u001B[38;5;124m\"\u001B[39m\n\u001B[1;32m   (...)\u001B[0m\n\u001B[0;32m    445\u001B[0m         SNIMissingWarning,\n\u001B[0;32m    446\u001B[0m     )\n\u001B[0;32m    448\u001B[0m \u001B[38;5;28;01mif\u001B[39;00m send_sni:\n\u001B[1;32m--> 449\u001B[0m     ssl_sock \u001B[38;5;241m=\u001B[39m _ssl_wrap_socket_impl(\n\u001B[0;32m    450\u001B[0m         sock, context, tls_in_tls, server_hostname\u001B[38;5;241m=\u001B[39mserver_hostname\n\u001B[0;32m    451\u001B[0m     )\n\u001B[0;32m    452\u001B[0m \u001B[38;5;28;01melse\u001B[39;00m:\n\u001B[0;32m    453\u001B[0m     ssl_sock \u001B[38;5;241m=\u001B[39m _ssl_wrap_socket_impl(sock, context, tls_in_tls)\n",
      "File \u001B[1;32mC:\\Programs_caio\\anaconda3\\Lib\\site-packages\\urllib3\\util\\ssl_.py:493\u001B[0m, in \u001B[0;36m_ssl_wrap_socket_impl\u001B[1;34m(sock, ssl_context, tls_in_tls, server_hostname)\u001B[0m\n\u001B[0;32m    490\u001B[0m     \u001B[38;5;28;01mreturn\u001B[39;00m SSLTransport(sock, ssl_context, server_hostname)\n\u001B[0;32m    492\u001B[0m \u001B[38;5;28;01mif\u001B[39;00m server_hostname:\n\u001B[1;32m--> 493\u001B[0m     \u001B[38;5;28;01mreturn\u001B[39;00m ssl_context\u001B[38;5;241m.\u001B[39mwrap_socket(sock, server_hostname\u001B[38;5;241m=\u001B[39mserver_hostname)\n\u001B[0;32m    494\u001B[0m \u001B[38;5;28;01melse\u001B[39;00m:\n\u001B[0;32m    495\u001B[0m     \u001B[38;5;28;01mreturn\u001B[39;00m ssl_context\u001B[38;5;241m.\u001B[39mwrap_socket(sock)\n",
      "File \u001B[1;32mC:\\Programs_caio\\anaconda3\\Lib\\ssl.py:517\u001B[0m, in \u001B[0;36mSSLContext.wrap_socket\u001B[1;34m(self, sock, server_side, do_handshake_on_connect, suppress_ragged_eofs, server_hostname, session)\u001B[0m\n\u001B[0;32m    511\u001B[0m \u001B[38;5;28;01mdef\u001B[39;00m \u001B[38;5;21mwrap_socket\u001B[39m(\u001B[38;5;28mself\u001B[39m, sock, server_side\u001B[38;5;241m=\u001B[39m\u001B[38;5;28;01mFalse\u001B[39;00m,\n\u001B[0;32m    512\u001B[0m                 do_handshake_on_connect\u001B[38;5;241m=\u001B[39m\u001B[38;5;28;01mTrue\u001B[39;00m,\n\u001B[0;32m    513\u001B[0m                 suppress_ragged_eofs\u001B[38;5;241m=\u001B[39m\u001B[38;5;28;01mTrue\u001B[39;00m,\n\u001B[0;32m    514\u001B[0m                 server_hostname\u001B[38;5;241m=\u001B[39m\u001B[38;5;28;01mNone\u001B[39;00m, session\u001B[38;5;241m=\u001B[39m\u001B[38;5;28;01mNone\u001B[39;00m):\n\u001B[0;32m    515\u001B[0m     \u001B[38;5;66;03m# SSLSocket class handles server_hostname encoding before it calls\u001B[39;00m\n\u001B[0;32m    516\u001B[0m     \u001B[38;5;66;03m# ctx._wrap_socket()\u001B[39;00m\n\u001B[1;32m--> 517\u001B[0m     \u001B[38;5;28;01mreturn\u001B[39;00m \u001B[38;5;28mself\u001B[39m\u001B[38;5;241m.\u001B[39msslsocket_class\u001B[38;5;241m.\u001B[39m_create(\n\u001B[0;32m    518\u001B[0m         sock\u001B[38;5;241m=\u001B[39msock,\n\u001B[0;32m    519\u001B[0m         server_side\u001B[38;5;241m=\u001B[39mserver_side,\n\u001B[0;32m    520\u001B[0m         do_handshake_on_connect\u001B[38;5;241m=\u001B[39mdo_handshake_on_connect,\n\u001B[0;32m    521\u001B[0m         suppress_ragged_eofs\u001B[38;5;241m=\u001B[39msuppress_ragged_eofs,\n\u001B[0;32m    522\u001B[0m         server_hostname\u001B[38;5;241m=\u001B[39mserver_hostname,\n\u001B[0;32m    523\u001B[0m         context\u001B[38;5;241m=\u001B[39m\u001B[38;5;28mself\u001B[39m,\n\u001B[0;32m    524\u001B[0m         session\u001B[38;5;241m=\u001B[39msession\n\u001B[0;32m    525\u001B[0m     )\n",
      "File \u001B[1;32mC:\\Programs_caio\\anaconda3\\Lib\\ssl.py:1075\u001B[0m, in \u001B[0;36mSSLSocket._create\u001B[1;34m(cls, sock, server_side, do_handshake_on_connect, suppress_ragged_eofs, server_hostname, context, session)\u001B[0m\n\u001B[0;32m   1072\u001B[0m         \u001B[38;5;28;01mif\u001B[39;00m timeout \u001B[38;5;241m==\u001B[39m \u001B[38;5;241m0.0\u001B[39m:\n\u001B[0;32m   1073\u001B[0m             \u001B[38;5;66;03m# non-blocking\u001B[39;00m\n\u001B[0;32m   1074\u001B[0m             \u001B[38;5;28;01mraise\u001B[39;00m \u001B[38;5;167;01mValueError\u001B[39;00m(\u001B[38;5;124m\"\u001B[39m\u001B[38;5;124mdo_handshake_on_connect should not be specified for non-blocking sockets\u001B[39m\u001B[38;5;124m\"\u001B[39m)\n\u001B[1;32m-> 1075\u001B[0m         \u001B[38;5;28mself\u001B[39m\u001B[38;5;241m.\u001B[39mdo_handshake()\n\u001B[0;32m   1076\u001B[0m \u001B[38;5;28;01mexcept\u001B[39;00m (\u001B[38;5;167;01mOSError\u001B[39;00m, \u001B[38;5;167;01mValueError\u001B[39;00m):\n\u001B[0;32m   1077\u001B[0m     \u001B[38;5;28mself\u001B[39m\u001B[38;5;241m.\u001B[39mclose()\n",
      "File \u001B[1;32mC:\\Programs_caio\\anaconda3\\Lib\\ssl.py:1346\u001B[0m, in \u001B[0;36mSSLSocket.do_handshake\u001B[1;34m(self, block)\u001B[0m\n\u001B[0;32m   1344\u001B[0m     \u001B[38;5;28;01mif\u001B[39;00m timeout \u001B[38;5;241m==\u001B[39m \u001B[38;5;241m0.0\u001B[39m \u001B[38;5;129;01mand\u001B[39;00m block:\n\u001B[0;32m   1345\u001B[0m         \u001B[38;5;28mself\u001B[39m\u001B[38;5;241m.\u001B[39msettimeout(\u001B[38;5;28;01mNone\u001B[39;00m)\n\u001B[1;32m-> 1346\u001B[0m     \u001B[38;5;28mself\u001B[39m\u001B[38;5;241m.\u001B[39m_sslobj\u001B[38;5;241m.\u001B[39mdo_handshake()\n\u001B[0;32m   1347\u001B[0m \u001B[38;5;28;01mfinally\u001B[39;00m:\n\u001B[0;32m   1348\u001B[0m     \u001B[38;5;28mself\u001B[39m\u001B[38;5;241m.\u001B[39msettimeout(timeout)\n",
      "\u001B[1;31mKeyboardInterrupt\u001B[0m: "
     ]
    }
   ],
   "source": [
    "site_url = 'http://books.toscrape.com/index.html'\n",
    "\n",
    "books_category= scrap_books_category(site_url)[:-19]\n",
    "# postgree_connection=postgree_connect()/\n",
    "\n",
    "for book_category in books_category:\n",
    "    _temp_data= scrap_books_data(book_category)\n",
    "    for data in _temp_data:\n",
    "        print(data)\n",
    "        break\n",
    "        # insert_data(postgree_connect(),data)\n",
    "        # time.sleep(3)"
   ],
   "metadata": {
    "collapsed": false,
    "ExecuteTime": {
     "end_time": "2023-09-09T16:52:44.979141100Z",
     "start_time": "2023-09-09T16:52:29.132644400Z"
    }
   },
   "id": "b4226012db306899"
  },
  {
   "cell_type": "code",
   "execution_count": 9,
   "outputs": [
    {
     "name": "stdout",
     "output_type": "stream",
     "text": [
      "('2023-09-09 13:52:30.737325', 'TESTE', 'TESTE', '47.82', 'WICKED above her hipbone GIRL across her heart Words are like a road map to reporter Camille Preaker’s troubled past Fresh from a brief stay at a psych hospital Camille’s first assignment from the second-rate daily paper where she works brings her reluctantly back to her hometown to cover the murders of two preteen girls NASTY on her kneecap BABYDOLL on her leg Since WICKED above her hipbone GIRL across her heart Words are like a road map to reporter Camille Preaker’s troubled past Fresh from a brief stay at a psych hospital Camille’s first assignment from the second-rate daily paper where she works brings her reluctantly back to her hometown to cover the murders of two preteen girls NASTY on her kneecap BABYDOLL on her leg Since she left town eight years ago Camille has hardly spoken to her neurotic hypochondriac mother or to the half-sister she barely knows: a beautiful thirteen-year-old with an eerie grip on the town Now installed again in her family’s Victorian mansion Camille is haunted by the childhood tragedy she has spent her whole life trying to cut from her memory HARMFUL on her wrist WHORE on her ankle As Camille works to uncover the truth about these violent crimes she finds herself identifying with the young victimsa bit too strongly Clues keep leading to dead ends forcing Camille to unravel the psychological puzzle of her own past to get at the story Dogged by her own demons Camille will have to confront what happened to her years before if she wants to survive this homecomingWith its taut crafted writing Sharp Objects is addictive haunting and unforgettable more', 'e00eb4fd7b871a48', 'books', '47.82', '47.82', '20', '4')\n"
     ]
    }
   ],
   "source": [
    "_data= {'process_date': '2023-09-09 13:52:30.737325', 'book_category': 'TESTE', 'book_title': 'TESTE', 'book_price': '47.82', 'book_description': 'WICKED above her hipbone GIRL across her heart Words are like a road map to reporter Camille Preaker’s troubled past Fresh from a brief stay at a psych hospital Camille’s first assignment from the second-rate daily paper where she works brings her reluctantly back to her hometown to cover the murders of two preteen girls NASTY on her kneecap BABYDOLL on her leg Since WICKED above her hipbone GIRL across her heart Words are like a road map to reporter Camille Preaker’s troubled past Fresh from a brief stay at a psych hospital Camille’s first assignment from the second-rate daily paper where she works brings her reluctantly back to her hometown to cover the murders of two preteen girls NASTY on her kneecap BABYDOLL on her leg Since she left town eight years ago Camille has hardly spoken to her neurotic hypochondriac mother or to the half-sister she barely knows: a beautiful thirteen-year-old with an eerie grip on the town Now installed again in her family’s Victorian mansion Camille is haunted by the childhood tragedy she has spent her whole life trying to cut from her memory HARMFUL on her wrist WHORE on her ankle As Camille works to uncover the truth about these violent crimes she finds herself identifying with the young victimsa bit too strongly Clues keep leading to dead ends forcing Camille to unravel the psychological puzzle of her own past to get at the story Dogged by her own demons Camille will have to confront what happened to her years before if she wants to survive this homecomingWith its taut crafted writing Sharp Objects is addictive haunting and unforgettable more', 'upc_number': 'e00eb4fd7b871a48', 'product_type': 'books', 'no_tax_price': '47.82', 'w_tax_price': '47.82', 'total_available': '20', 'book_star': '4'}\n",
    "\n",
    "\n",
    "\n",
    "\n",
    "print(tuple(_data.values()))"
   ],
   "metadata": {
    "collapsed": false,
    "ExecuteTime": {
     "end_time": "2023-09-09T16:56:05.166577300Z",
     "start_time": "2023-09-09T16:56:05.068142900Z"
    }
   },
   "id": "3ce49276b9c805c2"
  },
  {
   "cell_type": "markdown",
   "source": [
    "Create functions"
   ],
   "metadata": {
    "collapsed": false
   },
   "id": "a9c9f84316e05a21"
  },
  {
   "cell_type": "code",
   "execution_count": 24,
   "outputs": [
    {
     "name": "stdout",
     "output_type": "stream",
     "text": [
      "error when add register in databse\n",
      " 'psycopg2.extensions.connection' object has no attribute 'fetchall' \n",
      " ('2023-09-09 13:52:30.737325', 'TESTE', 'TESTE', '47.82', 'WICKED above her hipbone GIRL across her heart Words are like a road map to reporter Camille Preaker’s troubled past Fresh from a brief stay at a psych hospital Camille’s first assignment from the second-rate daily paper where she works brings her reluctantly back to her hometown to cover the murders of two preteen girls NASTY on her kneecap BABYDOLL on her leg Since WICKED above her hipbone GIRL across her heart Words are like a road map to reporter Camille Preaker’s troubled past Fresh from a brief stay at a psych hospital Camille’s first assignment from the second-rate daily paper where she works brings her reluctantly back to her hometown to cover the murders of two preteen girls NASTY on her kneecap BABYDOLL on her leg Since she left town eight years ago Camille has hardly spoken to her neurotic hypochondriac mother or to the half-sister she barely knows: a beautiful thirteen-year-old with an eerie grip on the town Now installed again in her family’s Victorian mansion Camille is haunted by the childhood tragedy she has spent her whole life trying to cut from her memory HARMFUL on her wrist WHORE on her ankle As Camille works to uncover the truth about these violent crimes she finds herself identifying with the young victimsa bit too strongly Clues keep leading to dead ends forcing Camille to unravel the psychological puzzle of her own past to get at the story Dogged by her own demons Camille will have to confront what happened to her years before if she wants to survive this homecomingWith its taut crafted writing Sharp Objects is addictive haunting and unforgettable more', 'e00eb4fd7b871a48', 'books', '47.82', '47.82', '20', '4')\n"
     ]
    }
   ],
   "source": [
    "insert_data(postgree_connect(),_data)"
   ],
   "metadata": {
    "collapsed": false,
    "ExecuteTime": {
     "end_time": "2023-09-09T18:34:02.254068900Z",
     "start_time": "2023-09-09T18:34:00.609745700Z"
    }
   },
   "id": "6393ab91a92579cb"
  },
  {
   "cell_type": "code",
   "execution_count": 23,
   "id": "initial_id",
   "metadata": {
    "collapsed": true,
    "ExecuteTime": {
     "end_time": "2023-09-09T18:33:57.497834300Z",
     "start_time": "2023-09-09T18:33:57.488776300Z"
    }
   },
   "outputs": [],
   "source": [
    "def insert_book_data(db_connection,data):\n",
    "    _pre_processing= tuple(_data.values())\n",
    "    # pre_processing= [ (f\"'{i}',\") for i in list(data.values())[:-1] ]\n",
    "    # pre_processing.append(f\"'{ list(data.values())[-1] }');\")\n",
    "    # concat_string= str('\\n'.join(pre_processing))\n",
    "    insert_template= (\"\"\"\n",
    "    INSERT INTO books\n",
    "    (DT_PROCESS_DATE,DS_BOOK_CATEGORY,DS_BOOK_TITLE,NR_BOOK_PRICE,DS_BOOK_DESCRIPTION,NR_UPC_NUMBER,TP_PRODUCT_TYPE,NR_NO_TAX_PRICE,NR_W_TAX_PRICE,NR_TOTAL_AVAILABLE,DS_BOOK_STAR) \n",
    "    VALUES (%s,%s,%s,%s,%s,%s,%s,%s,%s,%s,%s)\n",
    "    \n",
    "    \"\"\")\n",
    "    #execute the command in the database\n",
    "\n",
    "    try:\n",
    "        (\n",
    "            db_connection\n",
    "            .cursor()\n",
    "            .execute(insert_template,_pre_processing)\n",
    "        )\n",
    "\n",
    "        #write the alteration in the database;\n",
    "        (\n",
    "            db_connection\n",
    "            .commit()\n",
    "        )\n",
    "\n",
    "        # db_connection.fetchall()\n",
    "        print('row added!')\n",
    "    except Exception as e:\n",
    "        print('error when add register in databse\\n',e,'\\n',_pre_processing)\n",
    "        db_connection.close()"
   ]
  },
  {
   "cell_type": "code",
   "execution_count": 32,
   "outputs": [],
   "source": [
    "def update_book_price(db_connection,data):\n",
    "    _update_template=(\n",
    "        \"\"\"\n",
    "        UPDATE books\n",
    "        SET NR_BOOK_PRICE= '%s'\n",
    "        WHERE id_book = %s\n",
    "        \"\"\"\n",
    "    )\n",
    "    try:\n",
    "        (\n",
    "            db_connection\n",
    "            .cursor()\n",
    "            .execute(_update_template,data)\n",
    "        )\n",
    "\n",
    "        #write the alteration in the database;\n",
    "        (\n",
    "            db_connection\n",
    "            .commit()\n",
    "        )\n",
    "\n",
    "        # db_connection.fetchall()\n",
    "        print('row updated!')\n",
    "    except Exception as e:\n",
    "        print('error when update register in databse\\n',e,'\\n',data)\n",
    "        db_connection.close()\n",
    "    \n",
    "    \n",
    "    "
   ],
   "metadata": {
    "collapsed": false,
    "ExecuteTime": {
     "end_time": "2023-09-09T18:52:35.907979500Z",
     "start_time": "2023-09-09T18:52:35.888846100Z"
    }
   },
   "id": "fc28cedeb0bf87e8"
  },
  {
   "cell_type": "code",
   "execution_count": 33,
   "outputs": [
    {
     "name": "stdout",
     "output_type": "stream",
     "text": [
      "row updated!\n"
     ]
    }
   ],
   "source": [
    "update_book_price(postgree_connect(),(10,509))"
   ],
   "metadata": {
    "collapsed": false,
    "ExecuteTime": {
     "end_time": "2023-09-09T18:52:39.606505Z",
     "start_time": "2023-09-09T18:52:37.993666300Z"
    }
   },
   "id": "cefaf371a0e22eca"
  },
  {
   "cell_type": "code",
   "execution_count": null,
   "outputs": [],
   "source": [
    "UPDATE clientes\n",
    "SET email = 'novo_email@exemplo.com'\n",
    "WHERE id = 1;"
   ],
   "metadata": {
    "collapsed": false
   },
   "id": "6b764c4c07e6e053"
  }
 ],
 "metadata": {
  "kernelspec": {
   "display_name": "Python 3",
   "language": "python",
   "name": "python3"
  },
  "language_info": {
   "codemirror_mode": {
    "name": "ipython",
    "version": 2
   },
   "file_extension": ".py",
   "mimetype": "text/x-python",
   "name": "python",
   "nbconvert_exporter": "python",
   "pygments_lexer": "ipython2",
   "version": "2.7.6"
  }
 },
 "nbformat": 4,
 "nbformat_minor": 5
}
