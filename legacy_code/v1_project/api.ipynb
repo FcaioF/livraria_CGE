{
 "cells": [
  {
   "cell_type": "code",
   "execution_count": 3,
   "id": "initial_id",
   "metadata": {
    "collapsed": true,
    "ExecuteTime": {
     "end_time": "2023-09-17T23:48:01.390947600Z",
     "start_time": "2023-09-17T23:47:56.661261500Z"
    }
   },
   "outputs": [],
   "source": [
    " from flask import Flask, jsonify, request\n",
    "from web_scraping_tools.postgree_tools import *\n",
    "from json_tools.Jtools import *\n",
    "\n",
    "app = Flask(__name__)"
   ]
  },
  {
   "cell_type": "code",
   "execution_count": 59,
   "outputs": [],
   "source": [
    "def order_json_data(raw_list,table):\n",
    "    _formated_json = []\n",
    "\n",
    "    for json in raw_list:\n",
    "        # print(json)\n",
    "        if (table == 'BOOK'):\n",
    "            _formated_json.append(\n",
    "                {\n",
    "                    \"DT_PROCESS_DATE\": json['DT_PROCESS_DATE'],\n",
    "                    \"DS_BOOK_CATEGORY\": json['DS_BOOK_CATEGORY'],\n",
    "                    \"DS_BOOK_TITLE\": json['DS_BOOK_TITLE'],\n",
    "                    \"NR_BOOK_PRICE\": json['NR_BOOK_PRICE'],\n",
    "                    \"DS_BOOK_DESCRIPTION\": json['DS_BOOK_DESCRIPTION'],\n",
    "                    \"NR_UPC_NUMBER\": json['NR_UPC_NUMBER'],\n",
    "                    \"TP_PRODUCT_TYPE\": json['TP_PRODUCT_TYPE'],\n",
    "                    \"NR_NO_TAX_PRICE\": json['NR_NO_TAX_PRICE'],\n",
    "                    \"NR_W_TAX_PRICE\": json['NR_W_TAX_PRICE'],\n",
    "                    \"NR_TOTAL_AVAILABLE\": json['NR_TOTAL_AVAILABLE'],\n",
    "                    \"DS_BOOK_STAR\": json['DS_BOOK_STAR']\n",
    "\n",
    "                }\n",
    "            )\n",
    "        elif(table == 'CLIENTS'):\n",
    "            _formated_json.append(\n",
    "                {\n",
    "                    \"DATE_REGISTER\": json['DATE_REGISTER'],\n",
    "                    \"NAME\": json['NAME'],\n",
    "                    \"EMAIL\": json['EMAIL'],\n",
    "                    \"DDD\": json['DDD'],\n",
    "                    \"CELL\": json['CELL'],\n",
    "                    \"CPF\": json['CPF'],\n",
    "                    \"COMPLEMENT\": json['COMPLEMENT'],\n",
    "                    \"STREETS\": json['STREETS'],\n",
    "                    \"CITY\": json['CITY'],\n",
    "                    \"UF\": json['UF'],\n",
    "                    \"CEP\": json['CEP']\n",
    "\n",
    "                }\n",
    "            )\n",
    "\n",
    "    return _formated_json"
   ],
   "metadata": {
    "collapsed": false,
    "ExecuteTime": {
     "end_time": "2023-09-18T00:52:10.600581700Z",
     "start_time": "2023-09-18T00:52:10.584775Z"
    }
   },
   "id": "e2091e46299458b4"
  },
  {
   "cell_type": "code",
   "execution_count": 55,
   "outputs": [],
   "source": [
    "raw_list= [{'CELL': '911033667', 'CEP': '93624616', 'CITY': 'Rio Brilhante', 'COMPLEMENT': 'apartamento', 'CPF': '94462945921', 'DATE_REGISTER': '2023-09-11 23:13:39', 'DDD': '67', 'EMAIL': 'caio_81@hotmail.com', 'NAME': 'caio teste1', 'STREETS': 'Rua Serra do Tombador', 'UF': 'teste'}]"
   ],
   "metadata": {
    "collapsed": false,
    "ExecuteTime": {
     "end_time": "2023-09-18T00:51:01.292597600Z",
     "start_time": "2023-09-18T00:51:01.285707600Z"
    }
   },
   "id": "a715fc6ae625641c"
  },
  {
   "cell_type": "code",
   "execution_count": 77,
   "outputs": [
    {
     "name": "stdout",
     "output_type": "stream",
     "text": [
      "('2023-09-11 23:13:39', 'caio teste1', 'caio_81@hotmail.com', '67', '911033667', '94462945921', 'apartamento', 'Rua Serra do Tombador', 'Rio Brilhante', 'teste', '93624616', 1)\n"
     ]
    }
   ],
   "source": [
    "for i in order_json_data(raw_list,'CLIENTS'):\n",
    "    twp= (1,)\n",
    "    print(tuple(i.values()) + twp)\n",
    "\n",
    "\n",
    "# print(tuple(order_json_data(raw_list,'CLIENTS')[]))\n",
    "\n"
   ],
   "metadata": {
    "collapsed": false,
    "ExecuteTime": {
     "end_time": "2023-09-18T01:01:18.543121500Z",
     "start_time": "2023-09-18T01:01:18.497928700Z"
    }
   },
   "id": "c20bd2fa81183fa8"
  },
  {
   "cell_type": "code",
   "execution_count": null,
   "outputs": [],
   "source": [
    "print({'CELL': '911033667', 'CEP': '93624616', 'CITY': 'Rio Brilhante', 'COMPLEMENT': 'apartamento', 'CPF': '94462945921', 'DATE_REGISTER': '2023-09-11 23:13:39', 'DDD': '67', 'EMAIL': 'caio_81@hotmail.com', 'NAME': 'caio teste1', 'STREETS': 'Rua Serra do Tombador', 'UF': 'teste'})"
   ],
   "metadata": {
    "collapsed": false
   },
   "id": "7a09d99df5207b6f"
  }
 ],
 "metadata": {
  "kernelspec": {
   "display_name": "Python 3",
   "language": "python",
   "name": "python3"
  },
  "language_info": {
   "codemirror_mode": {
    "name": "ipython",
    "version": 2
   },
   "file_extension": ".py",
   "mimetype": "text/x-python",
   "name": "python",
   "nbconvert_exporter": "python",
   "pygments_lexer": "ipython2",
   "version": "2.7.6"
  }
 },
 "nbformat": 4,
 "nbformat_minor": 5
}
