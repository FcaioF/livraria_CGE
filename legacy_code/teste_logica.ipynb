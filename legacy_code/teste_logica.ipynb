{
 "cells": [
  {
   "cell_type": "code",
   "execution_count": 3,
   "outputs": [],
   "source": [
    "# Libs\n",
    "from web_scraping_tools.scrap_tools import *"
   ],
   "metadata": {
    "collapsed": false,
    "ExecuteTime": {
     "end_time": "2023-08-13T23:01:59.634791400Z",
     "start_time": "2023-08-13T23:01:59.616636600Z"
    }
   }
  },
  {
   "cell_type": "code",
   "execution_count": 11,
   "outputs": [],
   "source": [
    "site_url = 'alice-in-wonderland-alices-adventures-in-wonderland-1_5/index.html'"
   ],
   "metadata": {
    "collapsed": false,
    "ExecuteTime": {
     "end_time": "2023-08-13T23:06:10.576584200Z",
     "start_time": "2023-08-13T23:06:10.556222700Z"
    }
   }
  },
  {
   "cell_type": "code",
   "execution_count": 7,
   "outputs": [
    {
     "name": "stdout",
     "output_type": "stream",
     "text": [
      "requesting.. --> https://books.toscrape.com/catalogue/alice-in-wonderland-alices-adventures-in-wonderland-1_5/index.html\n"
     ]
    }
   ],
   "source": [
    "site_html = str(scrap_site_html(site_url))"
   ],
   "metadata": {
    "collapsed": false,
    "ExecuteTime": {
     "end_time": "2023-08-13T23:04:14.622422800Z",
     "start_time": "2023-08-13T23:04:13.574246700Z"
    }
   }
  },
  {
   "cell_type": "code",
   "execution_count": 22,
   "outputs": [],
   "source": [
    "def scrap_books_attribute2(base_link):\n",
    "    catalog_path= 'https://books.toscrape.com/catalogue/'\n",
    "\n",
    "    \"\"\"\n",
    "    get html code from the requested page\n",
    "    \"\"\"\n",
    "    _html_code_filtered= (\n",
    "        scrap_site_html(catalog_path+base_link)\n",
    "    )\n",
    "\n",
    "    \"\"\"\n",
    "    filter only texts from the page\n",
    "    \"\"\"\n",
    "    _formated_str= (\n",
    "        _html_code_filtered\n",
    "        .get_text()\n",
    "        .strip()\n",
    "        .split('\\n')\n",
    "\n",
    "    )\n",
    "    \"\"\"\n",
    "    clean blanks spaces and convert to list\n",
    "    \"\"\"\n",
    "    _temp_list= [item.strip() for item in _formated_str if item.strip() != '']\n",
    "    # print(_temp_list)\n",
    "    \"\"\"\n",
    "    formating the list values needed \n",
    "    \"\"\"\n",
    "    _final_list= {}\n",
    "\n",
    "    _final_list['process_date']= str(datetime.datetime.now())\n",
    "    _final_list['book_category']= _temp_list[4]\n",
    "    _final_list['book_title']= format_string(_temp_list[6])\n",
    "    _final_list['book_price']= replace_monetary(_temp_list[7])\n",
    "    _final_list['book_description']= format_string(_temp_list[11])\n",
    "    _final_list['upc_number']= str(_temp_list[13]).replace('UPC','')\n",
    "    _final_list['product_type']= str(_temp_list[14]).replace('Product Type','').lower()\n",
    "    _final_list['no_tax_price']= replace_monetary(_temp_list[15])\n",
    "    _final_list['w_tax_price']= replace_monetary(_temp_list[16])\n",
    "    _final_list['total_available']= format_available_field(_temp_list[19])\n",
    "    _final_list['book_star']= scrap_star_rating(_html_code_filtered)\n",
    "\n",
    "    return _temp_list"
   ],
   "metadata": {
    "collapsed": false,
    "ExecuteTime": {
     "end_time": "2023-08-13T23:08:44.339650300Z",
     "start_time": "2023-08-13T23:08:44.309802Z"
    }
   }
  },
  {
   "cell_type": "code",
   "execution_count": 45,
   "outputs": [
    {
     "name": "stdout",
     "output_type": "stream",
     "text": [
      "requesting.. --> https://books.toscrape.com/catalogue/alice-in-wonderland-alices-adventures-in-wonderland-1_5/index.html\n"
     ]
    }
   ],
   "source": [
    "temp_list = scrap_books_attribute2(site_url)"
   ],
   "metadata": {
    "collapsed": false,
    "ExecuteTime": {
     "end_time": "2023-08-13T23:21:02.547650Z",
     "start_time": "2023-08-13T23:21:01.797446400Z"
    }
   }
  },
  {
   "cell_type": "code",
   "execution_count": 47,
   "outputs": [
    {
     "name": "stdout",
     "output_type": "stream",
     "text": [
      "requesting.. --> https://books.toscrape.com/catalogue/of-mice-and-men_37/index.html\n"
     ]
    }
   ],
   "source": [
    "temp_list = scrap_books_attribute2('of-mice-and-men_37/index.html')\n"
   ],
   "metadata": {
    "collapsed": false,
    "ExecuteTime": {
     "end_time": "2023-08-13T23:21:09.050253300Z",
     "start_time": "2023-08-13T23:21:08.315100400Z"
    }
   }
  },
  {
   "cell_type": "code",
   "execution_count": 48,
   "outputs": [
    {
     "name": "stdout",
     "output_type": "stream",
     "text": [
      "47\n"
     ]
    }
   ],
   "source": [
    "print(len(temp_list))"
   ],
   "metadata": {
    "collapsed": false,
    "ExecuteTime": {
     "end_time": "2023-08-13T23:21:10.775577800Z",
     "start_time": "2023-08-13T23:21:10.743693400Z"
    }
   }
  },
  {
   "cell_type": "code",
   "execution_count": 40,
   "outputs": [
    {
     "name": "stdout",
     "output_type": "stream",
     "text": [
      "Alice in Wonderland (Alice's Adventures in Wonderland #1) \n",
      " £55.53 \n",
      " In stock (1 available) \n",
      " Product TypeBooks \n",
      " Price (excl. tax)£55.53 \n",
      " Price (incl. tax)£55.53 \n",
      " Tax£0.00 \n",
      " Availability \n",
      " In stock (1 available) \n",
      " 0\n"
     ]
    }
   ],
   "source": [
    "book_category = temp_list[4]\n",
    "title = temp_list[6]\n",
    "price = temp_list[7]\n",
    "stock = temp_list[8]\n",
    "description = temp_list[12]\n",
    "upc = temp_list[13]\n",
    "product_type = temp_list[14]\n",
    "no_tax_price = temp_list[15]\n",
    "tax_price= temp_list[16]\n",
    "total_tax= temp_list[17]\n",
    "availability =temp_list[19]\n",
    "print(\n",
    "    title,\n",
    "    '\\n',\n",
    "    price,\n",
    "    '\\n',\n",
    "    stock,\n",
    "    '\\n',\n",
    "    description,\n",
    "    '\\n',\n",
    "    upc,\n",
    "    '\\n',\n",
    "    product_type,\n",
    "    '\\n',\n",
    "    no_tax_price,\n",
    "    '\\n',\n",
    "    tax_price,\n",
    "    '\\n',\n",
    "    total_tax,\n",
    "    '\\n',\n",
    "    availability\n",
    ")"
   ],
   "metadata": {
    "collapsed": false,
    "ExecuteTime": {
     "end_time": "2023-08-13T23:16:17.848962200Z",
     "start_time": "2023-08-13T23:16:17.823425600Z"
    }
   }
  },
  {
   "cell_type": "code",
   "execution_count": 43,
   "outputs": [
    {
     "name": "stdout",
     "output_type": "stream",
     "text": [
      "Price (incl. tax)£55.53\n"
     ]
    }
   ],
   "source": [
    "print(temp_list[14])"
   ],
   "metadata": {
    "collapsed": false,
    "ExecuteTime": {
     "end_time": "2023-08-13T23:19:09.056840400Z",
     "start_time": "2023-08-13T23:19:09.033378900Z"
    }
   }
  }
 ],
 "metadata": {
  "kernelspec": {
   "display_name": "base",
   "language": "python",
   "name": "python3"
  },
  "language_info": {
   "codemirror_mode": {
    "name": "ipython",
    "version": 3
   },
   "file_extension": ".py",
   "mimetype": "text/x-python",
   "name": "python",
   "nbconvert_exporter": "python",
   "pygments_lexer": "ipython3",
   "version": "3.10.12"
  },
  "orig_nbformat": 4
 },
 "nbformat": 4,
 "nbformat_minor": 2
}
