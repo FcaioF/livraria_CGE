{
 "cells": [
  {
   "cell_type": "code",
   "execution_count": 1,
   "id": "initial_id",
   "metadata": {
    "collapsed": true,
    "ExecuteTime": {
     "end_time": "2023-08-13T22:02:16.886850500Z",
     "start_time": "2023-08-13T22:02:16.853772800Z"
    }
   },
   "outputs": [],
   "source": [
    "import psycopg2\n",
    "import json"
   ]
  },
  {
   "cell_type": "code",
   "execution_count": 2,
   "outputs": [],
   "source": [
    "\"\"\"\n",
    "path where the credentials \n",
    "is stored\n",
    "\"\"\"\n",
    "json_file= 'D:/caiof/Documents/GIT_Repos/web_scraping-books/postgree_credentials/postgree_credentials.json'\n",
    "\n",
    "def postgree_connect():\n",
    "    \"\"\" \n",
    "    read the json file \n",
    "    and structure the python dict\n",
    "    \"\"\"\n",
    "    _json_objct= (\n",
    "        json\n",
    "        .load(open(json_file))\n",
    "    )\n",
    "\n",
    "    try:\n",
    "        _connection = psycopg2.connect(\n",
    "            host=_json_objct['host'],\n",
    "            database=_json_objct['database'],\n",
    "            user=_json_objct['user'],\n",
    "            password=_json_objct['password']\n",
    "        )\n",
    "        return _connection.cursor()\n",
    "    \n",
    "    except Exception as e:\n",
    "        print('Connection failed!!\\nplease check your connection file\\n',e)\n",
    "        return\n",
    "\n"
   ],
   "metadata": {
    "collapsed": false,
    "ExecuteTime": {
     "end_time": "2023-08-13T22:02:19.966871900Z",
     "start_time": "2023-08-13T22:02:19.948699400Z"
    }
   },
   "id": "759eeb1c7b697533"
  },
  {
   "cell_type": "code",
   "execution_count": 9,
   "outputs": [
    {
     "ename": "ProgrammingError",
     "evalue": "no results to fetch",
     "output_type": "error",
     "traceback": [
      "\u001B[1;31m---------------------------------------------------------------------------\u001B[0m",
      "\u001B[1;31mProgrammingError\u001B[0m                          Traceback (most recent call last)",
      "Cell \u001B[1;32mIn[9], line 19\u001B[0m\n\u001B[0;32m      4\u001B[0m cursor\u001B[38;5;241m.\u001B[39mexecute(\u001B[38;5;124m\"\"\"\u001B[39m\n\u001B[0;32m      5\u001B[0m \u001B[38;5;124mINSERT INTO books(process_date,book_category,book_title,book_price,book_description,upc_number,product_type,no_tax_price,w_tax_price,total_available,book_star) VALUES (\u001B[39m\u001B[38;5;124m'\u001B[39m\u001B[38;5;124m2023-08-12 00:48:15.608097\u001B[39m\u001B[38;5;124m'\u001B[39m\u001B[38;5;124m,\u001B[39m\n\u001B[0;32m      6\u001B[0m \u001B[38;5;124m'\u001B[39m\u001B[38;5;124mMystery\u001B[39m\u001B[38;5;124m'\u001B[39m\u001B[38;5;124m,\u001B[39m\n\u001B[1;32m   (...)\u001B[0m\n\u001B[0;32m     15\u001B[0m \u001B[38;5;124m'\u001B[39m\u001B[38;5;124m4\u001B[39m\u001B[38;5;124m'\u001B[39m\u001B[38;5;124m);\u001B[39m\n\u001B[0;32m     16\u001B[0m \u001B[38;5;124m\"\"\"\u001B[39m)\n\u001B[0;32m     18\u001B[0m \u001B[38;5;66;03m# Fetch the results\u001B[39;00m\n\u001B[1;32m---> 19\u001B[0m results \u001B[38;5;241m=\u001B[39m \u001B[43mcursor\u001B[49m\u001B[38;5;241;43m.\u001B[39;49m\u001B[43mfetchall\u001B[49m\u001B[43m(\u001B[49m\u001B[43m)\u001B[49m\n\u001B[0;32m     21\u001B[0m \u001B[38;5;66;03m# Print the results\u001B[39;00m\n\u001B[0;32m     22\u001B[0m \u001B[38;5;28;01mfor\u001B[39;00m row \u001B[38;5;129;01min\u001B[39;00m results:\n",
      "\u001B[1;31mProgrammingError\u001B[0m: no results to fetch"
     ]
    }
   ],
   "source": [
    "cursor = postgree_connect()\n",
    "\n",
    "# Execute a SELECT query\n",
    "cursor.execute(\"\"\"\n",
    "INSERT INTO books(process_date,book_category,book_title,book_price,book_description,upc_number,product_type,no_tax_price,w_tax_price,total_available,book_star) VALUES ('2023-08-12 00:48:15.608097',\n",
    "'Mystery',\n",
    "'Sharp Objects',\n",
    "'47.82',\n",
    "'WICKED above her hipbone GIRL across her heart Words are like a road map to reporter Camille Preaker’s troubled past Fresh from a brief stay at a psych hospital Camille’s first assignment from the second-rate daily paper where she works brings her reluctantly back to her hometown to cover the murders of two preteen girls NASTY on her kneecap BABYDOLL on her leg Since WICKED above her hipbone GIRL across her heart Words are like a road map to reporter Camille Preaker’s troubled past Fresh from a brief stay at a psych hospital Camille’s first assignment from the second-rate daily paper where she works brings her reluctantly back to her hometown to cover the murders of two preteen girls NASTY on her kneecap BABYDOLL on her leg Since she left town eight years ago Camille has hardly spoken to her neurotic hypochondriac mother or to the half-sister she barely knows: a beautiful thirteen-year-old with an eerie grip on the town Now installed again in her family’s Victorian mansion Camille is haunted by the childhood tragedy she has spent her whole life trying to cut from her memory HARMFUL on her wrist WHORE on her ankle As Camille works to uncover the truth about these violent crimes she finds herself identifying with the young victimsa bit too strongly Clues keep leading to dead ends forcing Camille to unravel the psychological puzzle of her own past to get at the story Dogged by her own demons Camille will have to confront what happened to her years before if she wants to survive this homecomingWith its taut crafted writing Sharp Objects is addictive haunting and unforgettable more',\n",
    "'e00eb4fd7b871a48',\n",
    "'books',\n",
    "'47.82',\n",
    "'47.82',\n",
    "'20',\n",
    "'4');\n",
    "\"\"\")\n",
    "\n",
    "# Fetch the results\n",
    "results = cursor.fetchall()\n",
    "\n",
    "# Print the results\n",
    "for row in results:\n",
    "    print(row)"
   ],
   "metadata": {
    "collapsed": false,
    "ExecuteTime": {
     "end_time": "2023-08-13T22:06:07.184066400Z",
     "start_time": "2023-08-13T22:06:05.688251500Z"
    }
   },
   "id": "23becc83ff946fc3"
  },
  {
   "cell_type": "code",
   "execution_count": 3,
   "outputs": [],
   "source": [
    "lista = {'process_date': '2023-08-12 00:48:15.608097', 'book_category': 'Mystery', 'book_title': 'Sharp Objects', 'book_price': '47.82', 'book_description': 'WICKED above her hipbone GIRL across her heart Words are like a road map to reporter Camille Preaker’s troubled past Fresh from a brief stay at a psych hospital Camille’s first assignment from the second-rate daily paper where she works brings her reluctantly back to her hometown to cover the murders of two preteen girls NASTY on her kneecap BABYDOLL on her leg Since WICKED above her hipbone GIRL across her heart Words are like a road map to reporter Camille Preaker’s troubled past Fresh from a brief stay at a psych hospital Camille’s first assignment from the second-rate daily paper where she works brings her reluctantly back to her hometown to cover the murders of two preteen girls NASTY on her kneecap BABYDOLL on her leg Since she left town eight years ago Camille has hardly spoken to her neurotic hypochondriac mother or to the half-sister she barely knows: a beautiful thirteen-year-old with an eerie grip on the town Now installed again in her family’s Victorian mansion Camille is haunted by the childhood tragedy she has spent her whole life trying to cut from her memory HARMFUL on her wrist WHORE on her ankle As Camille works to uncover the truth about these violent crimes she finds herself identifying with the young victimsa bit too strongly Clues keep leading to dead ends forcing Camille to unravel the psychological puzzle of her own past to get at the story Dogged by her own demons Camille will have to confront what happened to her years before if she wants to survive this homecomingWith its taut crafted writing Sharp Objects is addictive haunting and unforgettable more', 'upc_number': 'e00eb4fd7b871a48', 'product_type': 'books', 'no_tax_price': '47.82', 'w_tax_price': '47.82', 'total_available': '20', 'book_star': '4'}"
   ],
   "metadata": {
    "collapsed": false,
    "ExecuteTime": {
     "end_time": "2023-08-13T22:37:29.081397400Z",
     "start_time": "2023-08-13T22:37:29.066386Z"
    }
   },
   "id": "22e6876a8fc1e17"
  },
  {
   "cell_type": "code",
   "execution_count": 7,
   "outputs": [],
   "source": [
    "def insert_data(db_connection,data):\n",
    "    pre_processing= [ (f\"'{i}',\") for i in list(data[0].values())[:-1] ]\n",
    "    pre_processing.append(f\"'{ list(data[0].values())[-1] }');\")\n",
    "    concat_string= ('\\n'.join(pre_processing))\n",
    "\n",
    "    insert_template= ('INSERT INTO books(process_date,book_category,book_title,book_price,book_description,upc_number,product_type,no_tax_price,w_tax_price,total_available,book_star) VALUES (%s,%s,%s,%s,%s,%s,%s,%s,%s,%s,%s')\n",
    "     db_connection.execute(insert_template + concat_string)\n",
    "    \n",
    "    \n",
    "    return \n",
    "    "
   ],
   "metadata": {
    "collapsed": false,
    "ExecuteTime": {
     "end_time": "2023-08-13T22:05:33.418276500Z",
     "start_time": "2023-08-13T22:05:33.397122400Z"
    }
   },
   "id": "d9c03af7e62dbaa7"
  },
  {
   "cell_type": "code",
   "execution_count": 17,
   "outputs": [],
   "source": [
    "def insert_data2(db_connection,data):\n",
    "    pre_processing= tuple(data[0].values())\n",
    "    # pre_processing= [ (f\"'{i}',\") for i in list(data[0].values())[:-1] ]\n",
    "    # pre_processing.append(f\"'{ list(data[0].values())[-1] }');\")\n",
    "    # concat_string= ('\\n'.join(pre_processing))\n",
    "\n",
    "    insert_template= ('INSERT INTO books (process_date,book_category,book_title,book_price,book_description,upc_number,product_type,no_tax_price,w_tax_price,total_available,book_star) VALUES (%s,%s,%s,%s,%s,%s,%s,%s,%s,%s,%s);')\n",
    "    db_connection.execute('select version() ')\n",
    "    # Fetch the results\n",
    "    results = db_connection.fetchall()\n",
    "    \n",
    "    # Print the results\n",
    "    for row in results:\n",
    "        print(row)\n",
    "    # print(insert_template)\n",
    "    # db_connection.execute(insert_template + concat_string)\n",
    "\n",
    "    return\n"
   ],
   "metadata": {
    "collapsed": false,
    "ExecuteTime": {
     "end_time": "2023-08-13T22:17:33.241024400Z",
     "start_time": "2023-08-13T22:17:33.219451900Z"
    }
   },
   "id": "8c0b13563f50d367"
  },
  {
   "cell_type": "code",
   "execution_count": 11,
   "outputs": [],
   "source": [
    "a = postgree_connect()"
   ],
   "metadata": {
    "collapsed": false,
    "ExecuteTime": {
     "end_time": "2023-08-13T22:12:54.632515Z",
     "start_time": "2023-08-13T22:12:54.545964300Z"
    }
   },
   "id": "6da75bb7413b6470"
  },
  {
   "cell_type": "code",
   "execution_count": 18,
   "outputs": [
    {
     "name": "stdout",
     "output_type": "stream",
     "text": [
      "('PostgreSQL 14.8 (Ubuntu 14.8-0ubuntu0.22.04.1) on x86_64-pc-linux-gnu, compiled by gcc (Ubuntu 11.3.0-1ubuntu1~22.04.1) 11.3.0, 64-bit',)\n",
      "None\n"
     ]
    }
   ],
   "source": [
    "print(insert_data2(a,lista))"
   ],
   "metadata": {
    "collapsed": false,
    "ExecuteTime": {
     "end_time": "2023-08-13T22:17:36.606572600Z",
     "start_time": "2023-08-13T22:17:36.598525800Z"
    }
   },
   "id": "556fa3793b4923e2"
  },
  {
   "cell_type": "markdown",
   "source": [],
   "metadata": {
    "collapsed": false
   },
   "id": "a849daaf60cf232c"
  },
  {
   "cell_type": "code",
   "execution_count": 8,
   "outputs": [],
   "source": [
    "\n",
    "teste = [ (f'\"{i}\"') for i in lista[0].values() ]\n",
    "\n",
    "\n",
    "\n",
    "# for i in lista[0].values():  print(f\"'{i}',\")"
   ],
   "metadata": {
    "collapsed": false,
    "ExecuteTime": {
     "end_time": "2023-08-12T19:13:49.103463200Z",
     "start_time": "2023-08-12T19:13:49.067521800Z"
    }
   },
   "id": "ba70e0ce838afe50"
  },
  {
   "cell_type": "code",
   "execution_count": 21,
   "outputs": [
    {
     "name": "stdout",
     "output_type": "stream",
     "text": [
      "\"2023-08-12 00:48:15.608097\"\n",
      "\"Mystery\"\n",
      "\"Sharp Objects\"\n",
      "\"47.82\"\n",
      "\"WICKED above her hipbone GIRL across her heart Words are like a road map to reporter Camille Preaker’s troubled past Fresh from a brief stay at a psych hospital Camille’s first assignment from the second-rate daily paper where she works brings her reluctantly back to her hometown to cover the murders of two preteen girls NASTY on her kneecap BABYDOLL on her leg Since WICKED above her hipbone GIRL across her heart Words are like a road map to reporter Camille Preaker’s troubled past Fresh from a brief stay at a psych hospital Camille’s first assignment from the second-rate daily paper where she works brings her reluctantly back to her hometown to cover the murders of two preteen girls NASTY on her kneecap BABYDOLL on her leg Since she left town eight years ago Camille has hardly spoken to her neurotic hypochondriac mother or to the half-sister she barely knows: a beautiful thirteen-year-old with an eerie grip on the town Now installed again in her family’s Victorian mansion Camille is haunted by the childhood tragedy she has spent her whole life trying to cut from her memory HARMFUL on her wrist WHORE on her ankle As Camille works to uncover the truth about these violent crimes she finds herself identifying with the young victimsa bit too strongly Clues keep leading to dead ends forcing Camille to unravel the psychological puzzle of her own past to get at the story Dogged by her own demons Camille will have to confront what happened to her years before if she wants to survive this homecomingWith its taut crafted writing Sharp Objects is addictive haunting and unforgettable more\"\n",
      "\"e00eb4fd7b871a48\"\n",
      "\"books\"\n",
      "\"47.82\"\n",
      "\"47.82\"\n",
      "\"20\"\n",
      "\"4\"\n"
     ]
    }
   ],
   "source": [
    "print('\\n'.join(teste))"
   ],
   "metadata": {
    "collapsed": false,
    "ExecuteTime": {
     "end_time": "2023-08-12T04:30:54.784327800Z",
     "start_time": "2023-08-12T04:30:54.705914500Z"
    }
   },
   "id": "72c1b9cefa157b60"
  },
  {
   "cell_type": "code",
   "execution_count": 76,
   "outputs": [
    {
     "ename": "TypeError",
     "evalue": "'dict_values' object is not subscriptable",
     "output_type": "error",
     "traceback": [
      "\u001B[1;31m---------------------------------------------------------------------------\u001B[0m",
      "\u001B[1;31mTypeError\u001B[0m                                 Traceback (most recent call last)",
      "Cell \u001B[1;32mIn[76], line 1\u001B[0m\n\u001B[1;32m----> 1\u001B[0m \u001B[38;5;28mprint\u001B[39m(\u001B[43mlista\u001B[49m\u001B[43m[\u001B[49m\u001B[38;5;241;43m0\u001B[39;49m\u001B[43m]\u001B[49m\u001B[38;5;241;43m.\u001B[39;49m\u001B[43mvalues\u001B[49m\u001B[43m(\u001B[49m\u001B[43m)\u001B[49m\u001B[43m[\u001B[49m\u001B[38;5;241;43m0\u001B[39;49m\u001B[43m]\u001B[49m)\n",
      "\u001B[1;31mTypeError\u001B[0m: 'dict_values' object is not subscriptable"
     ]
    }
   ],
   "source": [
    "print(lista[0].values()[0])"
   ],
   "metadata": {
    "collapsed": false,
    "ExecuteTime": {
     "end_time": "2023-08-12T18:00:17.381204200Z",
     "start_time": "2023-08-12T18:00:17.341888100Z"
    }
   },
   "id": "5d8384c9d6c079ff"
  },
  {
   "cell_type": "code",
   "execution_count": 35,
   "outputs": [
    {
     "name": "stdout",
     "output_type": "stream",
     "text": [
      "4\n"
     ]
    }
   ],
   "source": [
    "print(list(lista[0].values())[-1])"
   ],
   "metadata": {
    "collapsed": false,
    "ExecuteTime": {
     "end_time": "2023-08-12T04:39:03.227740100Z",
     "start_time": "2023-08-12T04:39:03.192351300Z"
    }
   },
   "id": "acbe3bb1cd12ca93"
  }
 ],
 "metadata": {
  "kernelspec": {
   "display_name": "Python 3",
   "language": "python",
   "name": "python3"
  },
  "language_info": {
   "codemirror_mode": {
    "name": "ipython",
    "version": 2
   },
   "file_extension": ".py",
   "mimetype": "text/x-python",
   "name": "python",
   "nbconvert_exporter": "python",
   "pygments_lexer": "ipython2",
   "version": "2.7.6"
  }
 },
 "nbformat": 4,
 "nbformat_minor": 5
}
