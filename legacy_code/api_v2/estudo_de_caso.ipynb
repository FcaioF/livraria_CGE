{
 "cells": [
  {
   "cell_type": "code",
   "execution_count": 28,
   "id": "initial_id",
   "metadata": {
    "collapsed": true,
    "ExecuteTime": {
     "end_time": "2023-11-18T05:29:28.869360600Z",
     "start_time": "2023-11-18T05:29:28.860857700Z"
    }
   },
   "outputs": [
    {
     "name": "stdout",
     "output_type": "stream",
     "text": [
      "('2023-09-26 23:56:58', 'misterio', 'meu pau de oculos', '16.73', 'teste', '123456789', 'books', 16.73, 16.73, '14', '2', 1)\n"
     ]
    }
   ],
   "source": [
    "\n",
    "\n",
    "\n",
    "def return_book_json_values(json_file):\n",
    "    \"\"\"\n",
    "    Recebe um arquivo json\n",
    "    ordena seguindo o schema da tabela books\n",
    "    e devolve os valores em formato de tupla    \n",
    "    \"\"\"\n",
    "    order_json = {\n",
    "                    \"DT_PROCESS_DATE\": json_file['DT_PROCESS_DATE'],\n",
    "                    \"DS_BOOK_CATEGORY\": json_file['DS_BOOK_CATEGORY'],\n",
    "                    \"DS_BOOK_TITLE\": json_file['DS_BOOK_TITLE'],\n",
    "                    \"NR_BOOK_PRICE\": json_file['NR_BOOK_PRICE'],\n",
    "                    \"DS_BOOK_DESCRIPTION\": json_file['DS_BOOK_DESCRIPTION'],\n",
    "                    \"NR_UPC_NUMBER\": json_file['NR_UPC_NUMBER'],\n",
    "                    \"TP_PRODUCT_TYPE\": json_file['TP_PRODUCT_TYPE'],\n",
    "                    \"NR_NO_TAX_PRICE\": json_file['NR_NO_TAX_PRICE'],\n",
    "                    \"NR_W_TAX_PRICE\": json_file['NR_W_TAX_PRICE'],\n",
    "                    \"NR_TOTAL_AVAILABLE\": json_file['NR_TOTAL_AVAILABLE'],\n",
    "                    \"DS_BOOK_STAR\": json_file['DS_BOOK_STAR']\n",
    "\n",
    "                }\n",
    "    formated_data = tuple(order_json.values())\n",
    "    \n",
    "    return formated_data\n",
    "    \n",
    "\n",
    "\n",
    "\n",
    "json_organizado = return_json_values({\n",
    "        \"DS_BOOK_CATEGORY\": \"misterio\",\n",
    "        \"DS_BOOK_DESCRIPTION\": \"teste\",\n",
    "        \"DS_BOOK_STAR\": \"2\",\n",
    "        \"DS_BOOK_TITLE\": \"meu pau de oculos\",\n",
    "        \"DT_PROCESS_DATE\": \"2023-09-26 23:56:58\",\n",
    "        \"ID_BOOK\": \"10\",\n",
    "        \"NR_BOOK_PRICE\": \"16.73\",\n",
    "        \"NR_NO_TAX_PRICE\": 16.73,\n",
    "        \"NR_TOTAL_AVAILABLE\": \"14\",\n",
    "        \"NR_UPC_NUMBER\": \"123456789\",\n",
    "        \"NR_W_TAX_PRICE\": 16.73,\n",
    "        \"TP_PRODUCT_TYPE\": \"books\"\n",
    "    }\n",
    ")\n",
    "print( json_organizado + (1,))"
   ]
  }
 ],
 "metadata": {
  "kernelspec": {
   "display_name": "Python 3",
   "language": "python",
   "name": "python3"
  },
  "language_info": {
   "codemirror_mode": {
    "name": "ipython",
    "version": 2
   },
   "file_extension": ".py",
   "mimetype": "text/x-python",
   "name": "python",
   "nbconvert_exporter": "python",
   "pygments_lexer": "ipython2",
   "version": "2.7.6"
  }
 },
 "nbformat": 4,
 "nbformat_minor": 5
}
